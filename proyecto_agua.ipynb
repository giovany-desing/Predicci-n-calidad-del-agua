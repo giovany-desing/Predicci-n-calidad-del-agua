{
 "cells": [
  {
   "cell_type": "markdown",
   "metadata": {},
   "source": [
    "# predictor si el agua es potable o no"
   ]
  },
  {
   "cell_type": "code",
   "execution_count": 210,
   "metadata": {},
   "outputs": [],
   "source": [
    "# importo pandas para cargar y visualizar los datos y numpy por si se me ofrece hacer calculos de matrices\n",
    "import numpy as np\n",
    "import pandas as pd\n",
    "import warnings\n",
    "warnings.simplefilter(\"ignore\")"
   ]
  },
  {
   "cell_type": "code",
   "execution_count": 211,
   "metadata": {},
   "outputs": [
    {
     "data": {
      "text/html": [
       "<div>\n",
       "<style scoped>\n",
       "    .dataframe tbody tr th:only-of-type {\n",
       "        vertical-align: middle;\n",
       "    }\n",
       "\n",
       "    .dataframe tbody tr th {\n",
       "        vertical-align: top;\n",
       "    }\n",
       "\n",
       "    .dataframe thead th {\n",
       "        text-align: right;\n",
       "    }\n",
       "</style>\n",
       "<table border=\"1\" class=\"dataframe\">\n",
       "  <thead>\n",
       "    <tr style=\"text-align: right;\">\n",
       "      <th></th>\n",
       "      <th>ph</th>\n",
       "      <th>Hardness</th>\n",
       "      <th>Solids</th>\n",
       "      <th>Chloramines</th>\n",
       "      <th>Sulfate</th>\n",
       "      <th>Conductivity</th>\n",
       "      <th>Organic_carbon</th>\n",
       "      <th>Trihalomethanes</th>\n",
       "      <th>Turbidity</th>\n",
       "      <th>Potability</th>\n",
       "    </tr>\n",
       "  </thead>\n",
       "  <tbody>\n",
       "    <tr>\n",
       "      <th>0</th>\n",
       "      <td>NaN</td>\n",
       "      <td>204.890455</td>\n",
       "      <td>20791.318981</td>\n",
       "      <td>7.300212</td>\n",
       "      <td>368.516441</td>\n",
       "      <td>564.308654</td>\n",
       "      <td>10.379783</td>\n",
       "      <td>86.990970</td>\n",
       "      <td>2.963135</td>\n",
       "      <td>0</td>\n",
       "    </tr>\n",
       "    <tr>\n",
       "      <th>1</th>\n",
       "      <td>3.716080</td>\n",
       "      <td>129.422921</td>\n",
       "      <td>18630.057858</td>\n",
       "      <td>6.635246</td>\n",
       "      <td>NaN</td>\n",
       "      <td>592.885359</td>\n",
       "      <td>15.180013</td>\n",
       "      <td>56.329076</td>\n",
       "      <td>4.500656</td>\n",
       "      <td>0</td>\n",
       "    </tr>\n",
       "    <tr>\n",
       "      <th>2</th>\n",
       "      <td>8.099124</td>\n",
       "      <td>224.236259</td>\n",
       "      <td>19909.541732</td>\n",
       "      <td>9.275884</td>\n",
       "      <td>NaN</td>\n",
       "      <td>418.606213</td>\n",
       "      <td>16.868637</td>\n",
       "      <td>66.420093</td>\n",
       "      <td>3.055934</td>\n",
       "      <td>0</td>\n",
       "    </tr>\n",
       "    <tr>\n",
       "      <th>3</th>\n",
       "      <td>8.316766</td>\n",
       "      <td>214.373394</td>\n",
       "      <td>22018.417441</td>\n",
       "      <td>8.059332</td>\n",
       "      <td>356.886136</td>\n",
       "      <td>363.266516</td>\n",
       "      <td>18.436524</td>\n",
       "      <td>100.341674</td>\n",
       "      <td>4.628771</td>\n",
       "      <td>0</td>\n",
       "    </tr>\n",
       "    <tr>\n",
       "      <th>4</th>\n",
       "      <td>9.092223</td>\n",
       "      <td>181.101509</td>\n",
       "      <td>17978.986339</td>\n",
       "      <td>6.546600</td>\n",
       "      <td>310.135738</td>\n",
       "      <td>398.410813</td>\n",
       "      <td>11.558279</td>\n",
       "      <td>31.997993</td>\n",
       "      <td>4.075075</td>\n",
       "      <td>0</td>\n",
       "    </tr>\n",
       "  </tbody>\n",
       "</table>\n",
       "</div>"
      ],
      "text/plain": [
       "         ph    Hardness        Solids  Chloramines     Sulfate  Conductivity  \\\n",
       "0       NaN  204.890455  20791.318981     7.300212  368.516441    564.308654   \n",
       "1  3.716080  129.422921  18630.057858     6.635246         NaN    592.885359   \n",
       "2  8.099124  224.236259  19909.541732     9.275884         NaN    418.606213   \n",
       "3  8.316766  214.373394  22018.417441     8.059332  356.886136    363.266516   \n",
       "4  9.092223  181.101509  17978.986339     6.546600  310.135738    398.410813   \n",
       "\n",
       "   Organic_carbon  Trihalomethanes  Turbidity  Potability  \n",
       "0       10.379783        86.990970   2.963135           0  \n",
       "1       15.180013        56.329076   4.500656           0  \n",
       "2       16.868637        66.420093   3.055934           0  \n",
       "3       18.436524       100.341674   4.628771           0  \n",
       "4       11.558279        31.997993   4.075075           0  "
      ]
     },
     "execution_count": 211,
     "metadata": {},
     "output_type": "execute_result"
    }
   ],
   "source": [
    "data = pd.read_csv('water_potability.csv')\n",
    "data.head(5)"
   ]
  },
  {
   "cell_type": "markdown",
   "metadata": {},
   "source": [
    "# antes que nada voy hacer una descripcion de cada una de las columnas del dataset"
   ]
  },
  {
   "cell_type": "markdown",
   "metadata": {},
   "source": [
    "# Ph = valor de pH (de 1. agua (0 a 14)):"
   ]
  },
  {
   "cell_type": "markdown",
   "metadata": {},
   "source": [
    "El PH es un parámetro importante en la evaluación del equilibrio ácido-base del agua. También es el indicador de la condición ácida o alcalina del estado del agua. La OMS ha recomendado el límite máximo permisible de pH de 6,5 a 8,5. Los rangos de investigación actuales fueron de 6,52 a 6,83, que se encuentran en el rango de los estándares de la OMS."
   ]
  },
  {
   "cell_type": "markdown",
   "metadata": {},
   "source": [
    "# Hardness = Dureza (Capacidad del agua para precipitar jabón en mg / L):"
   ]
  },
  {
   "cell_type": "markdown",
   "metadata": {},
   "source": [
    "La dureza es causada principalmente por sales de calcio y magnesio. Estas sales se disuelven a partir de depósitos geológicos a través de los cuales viaja el agua. El tiempo que el agua está en contacto con el material que produce dureza ayuda a determinar cuánta dureza hay en el agua cruda. La dureza se definió originalmente como la capacidad del agua para precipitar el jabón causado por el calcio y el magnesio."
   ]
  },
  {
   "cell_type": "markdown",
   "metadata": {},
   "source": [
    "# Solids = Sólidos (sólidos disueltos totales en ppm):"
   ]
  },
  {
   "cell_type": "markdown",
   "metadata": {},
   "source": [
    "El agua tiene la capacidad de disolver una amplia gama de minerales o sales inorgánicos y algunos orgánicos, como potasio, calcio, sodio, bicarbonatos, cloruros, magnesio, sulfatos, etc. Estos minerales producen un sabor no deseado y un color diluido en apariencia de agua. Este es el parámetro importante para el uso del agua. El agua con alto valor de TDS indica que el agua está altamente mineralizada. El límite deseable de TDS es de 500 mg / ly el límite máximo es de 1000 mg / l que se prescribe para beber."
   ]
  },
  {
   "cell_type": "markdown",
   "metadata": {},
   "source": [
    "# Chloramines = Cloraminas (Cantidad de cloraminas en ppm):"
   ]
  },
  {
   "cell_type": "markdown",
   "metadata": {},
   "source": [
    "El cloro y la cloramina son los principales desinfectantes que se utilizan en los sistemas públicos de agua. Las cloraminas se forman con mayor frecuencia cuando se agrega amoníaco al cloro para tratar el agua potable. Los niveles de cloro de hasta 4 miligramos por litro (mg / L o 4 partes por millón (ppm)) se consideran seguros en el agua potable."
   ]
  },
  {
   "cell_type": "markdown",
   "metadata": {},
   "source": [
    "# Sulfate = Sulfato (Cantidad de sulfatos disueltos en mg / L):"
   ]
  },
  {
   "cell_type": "markdown",
   "metadata": {},
   "source": [
    "Los sulfatos son sustancias naturales que se encuentran en minerales, suelo y rocas. Están presentes en el aire ambiente, el agua subterránea, las plantas y los alimentos. El principal uso comercial del sulfato es en la industria química. La concentración de sulfato en el agua de mar es de aproximadamente 2700 miligramos por litro (mg / L). Varía de 3 a 30 mg / L en la mayoría de los suministros de agua dulce, aunque se encuentran concentraciones mucho más altas (1000 mg / L) en algunas ubicaciones geográficas."
   ]
  },
  {
   "cell_type": "markdown",
   "metadata": {},
   "source": [
    "# Conductivity = Conductividad (conductividad eléctrica del agua en μS / cm):"
   ]
  },
  {
   "cell_type": "markdown",
   "metadata": {},
   "source": [
    "El agua pura no es un buen conductor de corriente eléctrica, más bien es un buen aislante. El aumento de la concentración de iones mejora la conductividad eléctrica del agua. Generalmente, la cantidad de sólidos disueltos en el agua determina la conductividad eléctrica. La conductividad eléctrica (EC) en realidad mide el proceso iónico de una solución que le permite transmitir corriente. Según los estándares de la OMS, el valor de CE no debe exceder los 400 μS / cm."
   ]
  },
  {
   "cell_type": "markdown",
   "metadata": {},
   "source": [
    "# Organic_carbon = Carbono orgánico (Cantidad de carbono orgánico en ppm):"
   ]
  },
  {
   "cell_type": "markdown",
   "metadata": {},
   "source": [
    "El carbono orgánico total (TOC) en las fuentes de agua proviene de la materia orgánica natural en descomposición (NOM), así como de fuentes sintéticas. TOC es una medida de la cantidad total de carbono en compuestos orgánicos en agua pura. Según la EPA de EE. UU. <2 mg / L como TOC en agua tratada / potable y <4 mg / Lit en el agua de origen que se utiliza para el tratamiento."
   ]
  },
  {
   "cell_type": "markdown",
   "metadata": {},
   "source": [
    "# Trihalomethanes = Trihalometanos (Cantidad de Trihalometanos en μg / L):"
   ]
  },
  {
   "cell_type": "markdown",
   "metadata": {},
   "source": [
    "Los THM son sustancias químicas que se pueden encontrar en el agua tratada con cloro. La concentración de THM en el agua potable varía según el nivel de material orgánico en el agua, la cantidad de cloro necesaria para tratar el agua y la temperatura del agua que se está tratando. Los niveles de THM de hasta 80 ppm se consideran seguros en el agua potable."
   ]
  },
  {
   "cell_type": "markdown",
   "metadata": {},
   "source": [
    "# Turbidity = Turbidez (Medida de la propiedad de emisión de luz del agua NTU):"
   ]
  },
  {
   "cell_type": "markdown",
   "metadata": {},
   "source": [
    "La turbidez del agua depende de la cantidad de materia sólida presente en estado suspendido. Es una medida de las propiedades emisoras de luz del agua y la prueba se utiliza para indicar la calidad de la descarga de desechos con respecto a la materia coloidal. El valor medio de turbidez obtenido para Wondo Genet Campus (0,98 NTU) es inferior al valor recomendado por la OMS de 5,00 NTU."
   ]
  },
  {
   "cell_type": "markdown",
   "metadata": {},
   "source": [
    "# Potability = Potabilidad:"
   ]
  },
  {
   "cell_type": "markdown",
   "metadata": {},
   "source": [
    "Indica si el agua es segura para el consumo humano, donde 1 significa potable y 0 significa no potable."
   ]
  },
  {
   "cell_type": "code",
   "execution_count": 212,
   "metadata": {},
   "outputs": [
    {
     "name": "stdout",
     "output_type": "stream",
     "text": [
      "<class 'pandas.core.frame.DataFrame'>\n",
      "RangeIndex: 3276 entries, 0 to 3275\n",
      "Data columns (total 10 columns):\n",
      " #   Column           Non-Null Count  Dtype  \n",
      "---  ------           --------------  -----  \n",
      " 0   ph               2785 non-null   float64\n",
      " 1   Hardness         3276 non-null   float64\n",
      " 2   Solids           3276 non-null   float64\n",
      " 3   Chloramines      3276 non-null   float64\n",
      " 4   Sulfate          2495 non-null   float64\n",
      " 5   Conductivity     3276 non-null   float64\n",
      " 6   Organic_carbon   3276 non-null   float64\n",
      " 7   Trihalomethanes  3114 non-null   float64\n",
      " 8   Turbidity        3276 non-null   float64\n",
      " 9   Potability       3276 non-null   int64  \n",
      "dtypes: float64(9), int64(1)\n",
      "memory usage: 256.1 KB\n"
     ]
    }
   ],
   "source": [
    "# verifico que tipos de datos tiene el dataset\n",
    "\n",
    "data.info()"
   ]
  },
  {
   "cell_type": "markdown",
   "metadata": {},
   "source": [
    "el dataset tiene datos faltantes y la columna 'Potability' que es la variable objetivo tiene datos de tipo enteros\n",
    "para entrenar un modelo de prediccion esta columna debe de tener dato de tipo category"
   ]
  },
  {
   "cell_type": "code",
   "execution_count": 213,
   "metadata": {},
   "outputs": [
    {
     "data": {
      "text/plain": [
       "array([0, 1])"
      ]
     },
     "execution_count": 213,
     "metadata": {},
     "output_type": "execute_result"
    }
   ],
   "source": [
    "data['Potability'].unique()"
   ]
  },
  {
   "cell_type": "code",
   "execution_count": 214,
   "metadata": {},
   "outputs": [
    {
     "data": {
      "text/plain": [
       "ph                  float64\n",
       "Hardness            float64\n",
       "Solids              float64\n",
       "Chloramines         float64\n",
       "Sulfate             float64\n",
       "Conductivity        float64\n",
       "Organic_carbon      float64\n",
       "Trihalomethanes     float64\n",
       "Turbidity           float64\n",
       "Potability         category\n",
       "dtype: object"
      ]
     },
     "execution_count": 214,
     "metadata": {},
     "output_type": "execute_result"
    }
   ],
   "source": [
    "# modifico la columna 'Potability' por un tipo de dato categorico\n",
    "data['Potability']=data['Potability'].astype('category')\n",
    "data.dtypes"
   ]
  },
  {
   "cell_type": "markdown",
   "metadata": {},
   "source": [
    "# no se puede hacer un analisis estadistico ni entrenar un modelo de predicción con valores faltantes"
   ]
  },
  {
   "cell_type": "code",
   "execution_count": 215,
   "metadata": {},
   "outputs": [
    {
     "data": {
      "text/html": [
       "<div>\n",
       "<style scoped>\n",
       "    .dataframe tbody tr th:only-of-type {\n",
       "        vertical-align: middle;\n",
       "    }\n",
       "\n",
       "    .dataframe tbody tr th {\n",
       "        vertical-align: top;\n",
       "    }\n",
       "\n",
       "    .dataframe thead th {\n",
       "        text-align: right;\n",
       "    }\n",
       "</style>\n",
       "<table border=\"1\" class=\"dataframe\">\n",
       "  <thead>\n",
       "    <tr style=\"text-align: right;\">\n",
       "      <th></th>\n",
       "      <th>ph</th>\n",
       "      <th>Hardness</th>\n",
       "      <th>Solids</th>\n",
       "      <th>Chloramines</th>\n",
       "      <th>Sulfate</th>\n",
       "      <th>Conductivity</th>\n",
       "      <th>Organic_carbon</th>\n",
       "      <th>Trihalomethanes</th>\n",
       "      <th>Turbidity</th>\n",
       "      <th>Potability</th>\n",
       "    </tr>\n",
       "  </thead>\n",
       "  <tbody>\n",
       "    <tr>\n",
       "      <th>False</th>\n",
       "      <td>491</td>\n",
       "      <td>NaN</td>\n",
       "      <td>NaN</td>\n",
       "      <td>NaN</td>\n",
       "      <td>781</td>\n",
       "      <td>NaN</td>\n",
       "      <td>NaN</td>\n",
       "      <td>162</td>\n",
       "      <td>NaN</td>\n",
       "      <td>NaN</td>\n",
       "    </tr>\n",
       "    <tr>\n",
       "      <th>True</th>\n",
       "      <td>2785</td>\n",
       "      <td>3276.0</td>\n",
       "      <td>3276.0</td>\n",
       "      <td>3276.0</td>\n",
       "      <td>2495</td>\n",
       "      <td>3276.0</td>\n",
       "      <td>3276.0</td>\n",
       "      <td>3114</td>\n",
       "      <td>3276.0</td>\n",
       "      <td>3276.0</td>\n",
       "    </tr>\n",
       "  </tbody>\n",
       "</table>\n",
       "</div>"
      ],
      "text/plain": [
       "         ph  Hardness  Solids  Chloramines  Sulfate  Conductivity  \\\n",
       "False   491       NaN     NaN          NaN      781           NaN   \n",
       "True   2785    3276.0  3276.0       3276.0     2495        3276.0   \n",
       "\n",
       "       Organic_carbon  Trihalomethanes  Turbidity  Potability  \n",
       "False             NaN              162        NaN         NaN  \n",
       "True           3276.0             3114     3276.0      3276.0  "
      ]
     },
     "execution_count": 215,
     "metadata": {},
     "output_type": "execute_result"
    }
   ],
   "source": [
    "# verifico donde y cuantos valores faltantes hay\n",
    "data.notnull().apply(pd.Series.value_counts)"
   ]
  },
  {
   "cell_type": "markdown",
   "metadata": {},
   "source": [
    "# se puede ver que el dataset tiene muchos valores nulos en las columnas (ph, Sulfate, Trihalomethanes)"
   ]
  },
  {
   "cell_type": "code",
   "execution_count": 216,
   "metadata": {},
   "outputs": [
    {
     "data": {
      "text/html": [
       "<div>\n",
       "<style scoped>\n",
       "    .dataframe tbody tr th:only-of-type {\n",
       "        vertical-align: middle;\n",
       "    }\n",
       "\n",
       "    .dataframe tbody tr th {\n",
       "        vertical-align: top;\n",
       "    }\n",
       "\n",
       "    .dataframe thead th {\n",
       "        text-align: right;\n",
       "    }\n",
       "</style>\n",
       "<table border=\"1\" class=\"dataframe\">\n",
       "  <thead>\n",
       "    <tr style=\"text-align: right;\">\n",
       "      <th></th>\n",
       "      <th>ph</th>\n",
       "      <th>Hardness</th>\n",
       "      <th>Solids</th>\n",
       "      <th>Chloramines</th>\n",
       "      <th>Sulfate</th>\n",
       "      <th>Conductivity</th>\n",
       "      <th>Organic_carbon</th>\n",
       "      <th>Trihalomethanes</th>\n",
       "      <th>Turbidity</th>\n",
       "      <th>Potability</th>\n",
       "    </tr>\n",
       "  </thead>\n",
       "  <tbody>\n",
       "    <tr>\n",
       "      <th>False</th>\n",
       "      <td>1</td>\n",
       "      <td>NaN</td>\n",
       "      <td>NaN</td>\n",
       "      <td>NaN</td>\n",
       "      <td>NaN</td>\n",
       "      <td>NaN</td>\n",
       "      <td>NaN</td>\n",
       "      <td>NaN</td>\n",
       "      <td>NaN</td>\n",
       "      <td>1998</td>\n",
       "    </tr>\n",
       "    <tr>\n",
       "      <th>True</th>\n",
       "      <td>3275</td>\n",
       "      <td>3276.0</td>\n",
       "      <td>3276.0</td>\n",
       "      <td>3276.0</td>\n",
       "      <td>3276.0</td>\n",
       "      <td>3276.0</td>\n",
       "      <td>3276.0</td>\n",
       "      <td>3276.0</td>\n",
       "      <td>3276.0</td>\n",
       "      <td>1278</td>\n",
       "    </tr>\n",
       "  </tbody>\n",
       "</table>\n",
       "</div>"
      ],
      "text/plain": [
       "         ph  Hardness  Solids  Chloramines  Sulfate  Conductivity  \\\n",
       "False     1       NaN     NaN          NaN      NaN           NaN   \n",
       "True   3275    3276.0  3276.0       3276.0   3276.0        3276.0   \n",
       "\n",
       "       Organic_carbon  Trihalomethanes  Turbidity  Potability  \n",
       "False             NaN              NaN        NaN        1998  \n",
       "True           3276.0           3276.0     3276.0        1278  "
      ]
     },
     "execution_count": 216,
     "metadata": {},
     "output_type": "execute_result"
    }
   ],
   "source": [
    "# ahora verifico si hay valores en 0\n",
    "\n",
    "# verifico donde y cuantos valores tienen cero 0 aparte de la columna Potability\n",
    "(data != 0).apply(pd.Series.value_counts)"
   ]
  },
  {
   "cell_type": "markdown",
   "metadata": {},
   "source": [
    "por lo general cuando hay valores nulos se recomienda rellenar estos datos con la media o promedio de los datos\n",
    "o con la mediana."
   ]
  },
  {
   "cell_type": "markdown",
   "metadata": {},
   "source": [
    "en este caso voy a intentar rellenar los valores nulos con la media o el promedio pero para rellenar estos datos nulos\n",
    "tengo que validar si la media es confiable, esto se le llama en estadistica coeficiente de variación la formula\n",
    "es la siguiente.\n",
    "\n",
    "coeficiente =  (desviación_estandar/media)*100\n",
    "\n",
    "SI EL COEFICIENTE SUPERA EL 25% NO ES CONFIABLE RELLENAR LOS DATOS NULOS CON ESTE ESTADISTICO"
   ]
  },
  {
   "cell_type": "code",
   "execution_count": 217,
   "metadata": {},
   "outputs": [],
   "source": [
    "nulls = data[['ph', 'Sulfate', 'Trihalomethanes']]"
   ]
  },
  {
   "cell_type": "code",
   "execution_count": 218,
   "metadata": {},
   "outputs": [
    {
     "data": {
      "text/plain": [
       "22.516110554342987"
      ]
     },
     "execution_count": 218,
     "metadata": {},
     "output_type": "execute_result"
    }
   ],
   "source": [
    "(data['ph'].std()/data['ph'].mean())*100 # --> coeficiente para la columna ph"
   ]
  },
  {
   "cell_type": "code",
   "execution_count": 219,
   "metadata": {},
   "outputs": [
    {
     "data": {
      "text/plain": [
       "12.408581857623904"
      ]
     },
     "execution_count": 219,
     "metadata": {},
     "output_type": "execute_result"
    }
   ],
   "source": [
    "(data['Sulfate'].std()/data['Sulfate'].mean())*100 # --> coeficiente para la columna Sulfate"
   ]
  },
  {
   "cell_type": "code",
   "execution_count": 220,
   "metadata": {},
   "outputs": [
    {
     "data": {
      "text/plain": [
       "24.36131251361677"
      ]
     },
     "execution_count": 220,
     "metadata": {},
     "output_type": "execute_result"
    }
   ],
   "source": [
    "(data['Trihalomethanes'].std()/data['Trihalomethanes'].mean())*100 # --> coeficiente para la columna Sulfate"
   ]
  },
  {
   "cell_type": "markdown",
   "metadata": {},
   "source": [
    "nunguno de los coeficientes supera el 25% esto quiere decir que es confiable rellenar los nulos con la media"
   ]
  },
  {
   "cell_type": "code",
   "execution_count": 221,
   "metadata": {},
   "outputs": [],
   "source": [
    "# remplazo los valores nulos con la media\n",
    "\n",
    "data['ph']=data['ph'].fillna(data.groupby(['Potability'])['ph'].transform('mean'))\n",
    "data['Sulfate']=data['Sulfate'].fillna(data.groupby(['Potability'])['Sulfate'].transform('mean'))\n",
    "data['Trihalomethanes']=data['Trihalomethanes'].fillna(data.groupby(['Potability'])['Trihalomethanes'].transform('mean'))"
   ]
  },
  {
   "cell_type": "code",
   "execution_count": 222,
   "metadata": {},
   "outputs": [
    {
     "data": {
      "text/html": [
       "<div>\n",
       "<style scoped>\n",
       "    .dataframe tbody tr th:only-of-type {\n",
       "        vertical-align: middle;\n",
       "    }\n",
       "\n",
       "    .dataframe tbody tr th {\n",
       "        vertical-align: top;\n",
       "    }\n",
       "\n",
       "    .dataframe thead th {\n",
       "        text-align: right;\n",
       "    }\n",
       "</style>\n",
       "<table border=\"1\" class=\"dataframe\">\n",
       "  <thead>\n",
       "    <tr style=\"text-align: right;\">\n",
       "      <th></th>\n",
       "      <th>ph</th>\n",
       "      <th>Hardness</th>\n",
       "      <th>Solids</th>\n",
       "      <th>Chloramines</th>\n",
       "      <th>Sulfate</th>\n",
       "      <th>Conductivity</th>\n",
       "      <th>Organic_carbon</th>\n",
       "      <th>Trihalomethanes</th>\n",
       "      <th>Turbidity</th>\n",
       "      <th>Potability</th>\n",
       "    </tr>\n",
       "  </thead>\n",
       "  <tbody>\n",
       "    <tr>\n",
       "      <th>True</th>\n",
       "      <td>3276</td>\n",
       "      <td>3276</td>\n",
       "      <td>3276</td>\n",
       "      <td>3276</td>\n",
       "      <td>3276</td>\n",
       "      <td>3276</td>\n",
       "      <td>3276</td>\n",
       "      <td>3276</td>\n",
       "      <td>3276</td>\n",
       "      <td>3276</td>\n",
       "    </tr>\n",
       "  </tbody>\n",
       "</table>\n",
       "</div>"
      ],
      "text/plain": [
       "        ph  Hardness  Solids  Chloramines  Sulfate  Conductivity  \\\n",
       "True  3276      3276    3276         3276     3276          3276   \n",
       "\n",
       "      Organic_carbon  Trihalomethanes  Turbidity  Potability  \n",
       "True            3276             3276       3276        3276  "
      ]
     },
     "execution_count": 222,
     "metadata": {},
     "output_type": "execute_result"
    }
   ],
   "source": [
    "# valido que el remplazo de los valores nulos sea exitoso\n",
    "\n",
    "data.notnull().apply(pd.Series.value_counts)"
   ]
  },
  {
   "cell_type": "markdown",
   "metadata": {},
   "source": [
    "# hora que no hay valores faltantes se puede hacer un analisis datos"
   ]
  },
  {
   "cell_type": "code",
   "execution_count": 223,
   "metadata": {},
   "outputs": [
    {
     "data": {
      "text/html": [
       "<div>\n",
       "<style scoped>\n",
       "    .dataframe tbody tr th:only-of-type {\n",
       "        vertical-align: middle;\n",
       "    }\n",
       "\n",
       "    .dataframe tbody tr th {\n",
       "        vertical-align: top;\n",
       "    }\n",
       "\n",
       "    .dataframe thead th {\n",
       "        text-align: right;\n",
       "    }\n",
       "</style>\n",
       "<table border=\"1\" class=\"dataframe\">\n",
       "  <thead>\n",
       "    <tr style=\"text-align: right;\">\n",
       "      <th></th>\n",
       "      <th>ph</th>\n",
       "      <th>Hardness</th>\n",
       "      <th>Solids</th>\n",
       "      <th>Chloramines</th>\n",
       "      <th>Sulfate</th>\n",
       "      <th>Conductivity</th>\n",
       "      <th>Organic_carbon</th>\n",
       "      <th>Trihalomethanes</th>\n",
       "      <th>Turbidity</th>\n",
       "      <th>Potability</th>\n",
       "    </tr>\n",
       "  </thead>\n",
       "  <tbody>\n",
       "    <tr>\n",
       "      <th>0</th>\n",
       "      <td>7.085378</td>\n",
       "      <td>204.890455</td>\n",
       "      <td>20791.318981</td>\n",
       "      <td>7.300212</td>\n",
       "      <td>368.516441</td>\n",
       "      <td>564.308654</td>\n",
       "      <td>10.379783</td>\n",
       "      <td>86.990970</td>\n",
       "      <td>2.963135</td>\n",
       "      <td>0</td>\n",
       "    </tr>\n",
       "    <tr>\n",
       "      <th>1</th>\n",
       "      <td>3.716080</td>\n",
       "      <td>129.422921</td>\n",
       "      <td>18630.057858</td>\n",
       "      <td>6.635246</td>\n",
       "      <td>334.564290</td>\n",
       "      <td>592.885359</td>\n",
       "      <td>15.180013</td>\n",
       "      <td>56.329076</td>\n",
       "      <td>4.500656</td>\n",
       "      <td>0</td>\n",
       "    </tr>\n",
       "    <tr>\n",
       "      <th>2</th>\n",
       "      <td>8.099124</td>\n",
       "      <td>224.236259</td>\n",
       "      <td>19909.541732</td>\n",
       "      <td>9.275884</td>\n",
       "      <td>334.564290</td>\n",
       "      <td>418.606213</td>\n",
       "      <td>16.868637</td>\n",
       "      <td>66.420093</td>\n",
       "      <td>3.055934</td>\n",
       "      <td>0</td>\n",
       "    </tr>\n",
       "    <tr>\n",
       "      <th>3</th>\n",
       "      <td>8.316766</td>\n",
       "      <td>214.373394</td>\n",
       "      <td>22018.417441</td>\n",
       "      <td>8.059332</td>\n",
       "      <td>356.886136</td>\n",
       "      <td>363.266516</td>\n",
       "      <td>18.436524</td>\n",
       "      <td>100.341674</td>\n",
       "      <td>4.628771</td>\n",
       "      <td>0</td>\n",
       "    </tr>\n",
       "    <tr>\n",
       "      <th>4</th>\n",
       "      <td>9.092223</td>\n",
       "      <td>181.101509</td>\n",
       "      <td>17978.986339</td>\n",
       "      <td>6.546600</td>\n",
       "      <td>310.135738</td>\n",
       "      <td>398.410813</td>\n",
       "      <td>11.558279</td>\n",
       "      <td>31.997993</td>\n",
       "      <td>4.075075</td>\n",
       "      <td>0</td>\n",
       "    </tr>\n",
       "  </tbody>\n",
       "</table>\n",
       "</div>"
      ],
      "text/plain": [
       "         ph    Hardness        Solids  Chloramines     Sulfate  Conductivity  \\\n",
       "0  7.085378  204.890455  20791.318981     7.300212  368.516441    564.308654   \n",
       "1  3.716080  129.422921  18630.057858     6.635246  334.564290    592.885359   \n",
       "2  8.099124  224.236259  19909.541732     9.275884  334.564290    418.606213   \n",
       "3  8.316766  214.373394  22018.417441     8.059332  356.886136    363.266516   \n",
       "4  9.092223  181.101509  17978.986339     6.546600  310.135738    398.410813   \n",
       "\n",
       "   Organic_carbon  Trihalomethanes  Turbidity Potability  \n",
       "0       10.379783        86.990970   2.963135          0  \n",
       "1       15.180013        56.329076   4.500656          0  \n",
       "2       16.868637        66.420093   3.055934          0  \n",
       "3       18.436524       100.341674   4.628771          0  \n",
       "4       11.558279        31.997993   4.075075          0  "
      ]
     },
     "execution_count": 223,
     "metadata": {},
     "output_type": "execute_result"
    }
   ],
   "source": [
    "data.head()"
   ]
  },
  {
   "cell_type": "markdown",
   "metadata": {},
   "source": [
    "# análisis estadístico"
   ]
  },
  {
   "cell_type": "code",
   "execution_count": 224,
   "metadata": {},
   "outputs": [
    {
     "data": {
      "text/html": [
       "<style  type=\"text/css\" >\n",
       "#T_f22bc918_e3f2_11eb_9a9d_7cd1c3f5df4drow0_col0,#T_f22bc918_e3f2_11eb_9a9d_7cd1c3f5df4drow0_col1,#T_f22bc918_e3f2_11eb_9a9d_7cd1c3f5df4drow0_col2,#T_f22bc918_e3f2_11eb_9a9d_7cd1c3f5df4drow0_col3,#T_f22bc918_e3f2_11eb_9a9d_7cd1c3f5df4drow0_col4,#T_f22bc918_e3f2_11eb_9a9d_7cd1c3f5df4drow0_col5,#T_f22bc918_e3f2_11eb_9a9d_7cd1c3f5df4drow0_col6,#T_f22bc918_e3f2_11eb_9a9d_7cd1c3f5df4drow0_col7,#T_f22bc918_e3f2_11eb_9a9d_7cd1c3f5df4drow1_col0,#T_f22bc918_e3f2_11eb_9a9d_7cd1c3f5df4drow1_col2,#T_f22bc918_e3f2_11eb_9a9d_7cd1c3f5df4drow2_col0,#T_f22bc918_e3f2_11eb_9a9d_7cd1c3f5df4drow3_col0,#T_f22bc918_e3f2_11eb_9a9d_7cd1c3f5df4drow3_col1,#T_f22bc918_e3f2_11eb_9a9d_7cd1c3f5df4drow3_col2,#T_f22bc918_e3f2_11eb_9a9d_7cd1c3f5df4drow3_col3,#T_f22bc918_e3f2_11eb_9a9d_7cd1c3f5df4drow3_col4,#T_f22bc918_e3f2_11eb_9a9d_7cd1c3f5df4drow3_col5,#T_f22bc918_e3f2_11eb_9a9d_7cd1c3f5df4drow3_col6,#T_f22bc918_e3f2_11eb_9a9d_7cd1c3f5df4drow3_col7,#T_f22bc918_e3f2_11eb_9a9d_7cd1c3f5df4drow4_col0,#T_f22bc918_e3f2_11eb_9a9d_7cd1c3f5df4drow5_col0,#T_f22bc918_e3f2_11eb_9a9d_7cd1c3f5df4drow6_col0,#T_f22bc918_e3f2_11eb_9a9d_7cd1c3f5df4drow6_col1,#T_f22bc918_e3f2_11eb_9a9d_7cd1c3f5df4drow6_col2,#T_f22bc918_e3f2_11eb_9a9d_7cd1c3f5df4drow6_col4,#T_f22bc918_e3f2_11eb_9a9d_7cd1c3f5df4drow6_col5,#T_f22bc918_e3f2_11eb_9a9d_7cd1c3f5df4drow6_col6,#T_f22bc918_e3f2_11eb_9a9d_7cd1c3f5df4drow6_col7,#T_f22bc918_e3f2_11eb_9a9d_7cd1c3f5df4drow7_col0,#T_f22bc918_e3f2_11eb_9a9d_7cd1c3f5df4drow7_col1,#T_f22bc918_e3f2_11eb_9a9d_7cd1c3f5df4drow7_col2,#T_f22bc918_e3f2_11eb_9a9d_7cd1c3f5df4drow7_col3,#T_f22bc918_e3f2_11eb_9a9d_7cd1c3f5df4drow7_col4,#T_f22bc918_e3f2_11eb_9a9d_7cd1c3f5df4drow7_col5,#T_f22bc918_e3f2_11eb_9a9d_7cd1c3f5df4drow7_col6,#T_f22bc918_e3f2_11eb_9a9d_7cd1c3f5df4drow7_col7,#T_f22bc918_e3f2_11eb_9a9d_7cd1c3f5df4drow8_col0,#T_f22bc918_e3f2_11eb_9a9d_7cd1c3f5df4drow8_col1,#T_f22bc918_e3f2_11eb_9a9d_7cd1c3f5df4drow8_col2,#T_f22bc918_e3f2_11eb_9a9d_7cd1c3f5df4drow8_col4,#T_f22bc918_e3f2_11eb_9a9d_7cd1c3f5df4drow8_col5,#T_f22bc918_e3f2_11eb_9a9d_7cd1c3f5df4drow8_col6,#T_f22bc918_e3f2_11eb_9a9d_7cd1c3f5df4drow8_col7{\n",
       "            background-color:  #fff7fb;\n",
       "            color:  #000000;\n",
       "        }#T_f22bc918_e3f2_11eb_9a9d_7cd1c3f5df4drow1_col1,#T_f22bc918_e3f2_11eb_9a9d_7cd1c3f5df4drow1_col4,#T_f22bc918_e3f2_11eb_9a9d_7cd1c3f5df4drow1_col5,#T_f22bc918_e3f2_11eb_9a9d_7cd1c3f5df4drow5_col2{\n",
       "            background-color:  #fef6fa;\n",
       "            color:  #000000;\n",
       "        }#T_f22bc918_e3f2_11eb_9a9d_7cd1c3f5df4drow1_col3{\n",
       "            background-color:  #e7e3f0;\n",
       "            color:  #000000;\n",
       "        }#T_f22bc918_e3f2_11eb_9a9d_7cd1c3f5df4drow1_col6,#T_f22bc918_e3f2_11eb_9a9d_7cd1c3f5df4drow1_col7,#T_f22bc918_e3f2_11eb_9a9d_7cd1c3f5df4drow4_col2,#T_f22bc918_e3f2_11eb_9a9d_7cd1c3f5df4drow4_col7,#T_f22bc918_e3f2_11eb_9a9d_7cd1c3f5df4drow6_col3,#T_f22bc918_e3f2_11eb_9a9d_7cd1c3f5df4drow8_col3{\n",
       "            background-color:  #fef6fb;\n",
       "            color:  #000000;\n",
       "        }#T_f22bc918_e3f2_11eb_9a9d_7cd1c3f5df4drow2_col1,#T_f22bc918_e3f2_11eb_9a9d_7cd1c3f5df4drow2_col2,#T_f22bc918_e3f2_11eb_9a9d_7cd1c3f5df4drow2_col3,#T_f22bc918_e3f2_11eb_9a9d_7cd1c3f5df4drow2_col4,#T_f22bc918_e3f2_11eb_9a9d_7cd1c3f5df4drow2_col5,#T_f22bc918_e3f2_11eb_9a9d_7cd1c3f5df4drow2_col6,#T_f22bc918_e3f2_11eb_9a9d_7cd1c3f5df4drow2_col7{\n",
       "            background-color:  #023858;\n",
       "            color:  #f1f1f1;\n",
       "        }#T_f22bc918_e3f2_11eb_9a9d_7cd1c3f5df4drow4_col1,#T_f22bc918_e3f2_11eb_9a9d_7cd1c3f5df4drow4_col5,#T_f22bc918_e3f2_11eb_9a9d_7cd1c3f5df4drow4_col6,#T_f22bc918_e3f2_11eb_9a9d_7cd1c3f5df4drow5_col1,#T_f22bc918_e3f2_11eb_9a9d_7cd1c3f5df4drow5_col6,#T_f22bc918_e3f2_11eb_9a9d_7cd1c3f5df4drow5_col7{\n",
       "            background-color:  #fdf5fa;\n",
       "            color:  #000000;\n",
       "        }#T_f22bc918_e3f2_11eb_9a9d_7cd1c3f5df4drow4_col3{\n",
       "            background-color:  #9cb9d9;\n",
       "            color:  #000000;\n",
       "        }#T_f22bc918_e3f2_11eb_9a9d_7cd1c3f5df4drow4_col4,#T_f22bc918_e3f2_11eb_9a9d_7cd1c3f5df4drow5_col4,#T_f22bc918_e3f2_11eb_9a9d_7cd1c3f5df4drow5_col5{\n",
       "            background-color:  #fcf4fa;\n",
       "            color:  #000000;\n",
       "        }#T_f22bc918_e3f2_11eb_9a9d_7cd1c3f5df4drow5_col3{\n",
       "            background-color:  #549cc7;\n",
       "            color:  #000000;\n",
       "        }</style><table id=\"T_f22bc918_e3f2_11eb_9a9d_7cd1c3f5df4d\" ><thead>    <tr>        <th class=\"blank level0\" ></th>        <th class=\"col_heading level0 col0\" >count</th>        <th class=\"col_heading level0 col1\" >mean</th>        <th class=\"col_heading level0 col2\" >std</th>        <th class=\"col_heading level0 col3\" >min</th>        <th class=\"col_heading level0 col4\" >25%</th>        <th class=\"col_heading level0 col5\" >50%</th>        <th class=\"col_heading level0 col6\" >75%</th>        <th class=\"col_heading level0 col7\" >max</th>    </tr></thead><tbody>\n",
       "                <tr>\n",
       "                        <th id=\"T_f22bc918_e3f2_11eb_9a9d_7cd1c3f5df4dlevel0_row0\" class=\"row_heading level0 row0\" >ph</th>\n",
       "                        <td id=\"T_f22bc918_e3f2_11eb_9a9d_7cd1c3f5df4drow0_col0\" class=\"data row0 col0\" >3276.000000</td>\n",
       "                        <td id=\"T_f22bc918_e3f2_11eb_9a9d_7cd1c3f5df4drow0_col1\" class=\"data row0 col1\" >7.080855</td>\n",
       "                        <td id=\"T_f22bc918_e3f2_11eb_9a9d_7cd1c3f5df4drow0_col2\" class=\"data row0 col2\" >1.469958</td>\n",
       "                        <td id=\"T_f22bc918_e3f2_11eb_9a9d_7cd1c3f5df4drow0_col3\" class=\"data row0 col3\" >0.000000</td>\n",
       "                        <td id=\"T_f22bc918_e3f2_11eb_9a9d_7cd1c3f5df4drow0_col4\" class=\"data row0 col4\" >6.277673</td>\n",
       "                        <td id=\"T_f22bc918_e3f2_11eb_9a9d_7cd1c3f5df4drow0_col5\" class=\"data row0 col5\" >7.085378</td>\n",
       "                        <td id=\"T_f22bc918_e3f2_11eb_9a9d_7cd1c3f5df4drow0_col6\" class=\"data row0 col6\" >7.870050</td>\n",
       "                        <td id=\"T_f22bc918_e3f2_11eb_9a9d_7cd1c3f5df4drow0_col7\" class=\"data row0 col7\" >14.000000</td>\n",
       "            </tr>\n",
       "            <tr>\n",
       "                        <th id=\"T_f22bc918_e3f2_11eb_9a9d_7cd1c3f5df4dlevel0_row1\" class=\"row_heading level0 row1\" >Hardness</th>\n",
       "                        <td id=\"T_f22bc918_e3f2_11eb_9a9d_7cd1c3f5df4drow1_col0\" class=\"data row1 col0\" >3276.000000</td>\n",
       "                        <td id=\"T_f22bc918_e3f2_11eb_9a9d_7cd1c3f5df4drow1_col1\" class=\"data row1 col1\" >196.369496</td>\n",
       "                        <td id=\"T_f22bc918_e3f2_11eb_9a9d_7cd1c3f5df4drow1_col2\" class=\"data row1 col2\" >32.879761</td>\n",
       "                        <td id=\"T_f22bc918_e3f2_11eb_9a9d_7cd1c3f5df4drow1_col3\" class=\"data row1 col3\" >47.432000</td>\n",
       "                        <td id=\"T_f22bc918_e3f2_11eb_9a9d_7cd1c3f5df4drow1_col4\" class=\"data row1 col4\" >176.850538</td>\n",
       "                        <td id=\"T_f22bc918_e3f2_11eb_9a9d_7cd1c3f5df4drow1_col5\" class=\"data row1 col5\" >196.967627</td>\n",
       "                        <td id=\"T_f22bc918_e3f2_11eb_9a9d_7cd1c3f5df4drow1_col6\" class=\"data row1 col6\" >216.667456</td>\n",
       "                        <td id=\"T_f22bc918_e3f2_11eb_9a9d_7cd1c3f5df4drow1_col7\" class=\"data row1 col7\" >323.124000</td>\n",
       "            </tr>\n",
       "            <tr>\n",
       "                        <th id=\"T_f22bc918_e3f2_11eb_9a9d_7cd1c3f5df4dlevel0_row2\" class=\"row_heading level0 row2\" >Solids</th>\n",
       "                        <td id=\"T_f22bc918_e3f2_11eb_9a9d_7cd1c3f5df4drow2_col0\" class=\"data row2 col0\" >3276.000000</td>\n",
       "                        <td id=\"T_f22bc918_e3f2_11eb_9a9d_7cd1c3f5df4drow2_col1\" class=\"data row2 col1\" >22014.092526</td>\n",
       "                        <td id=\"T_f22bc918_e3f2_11eb_9a9d_7cd1c3f5df4drow2_col2\" class=\"data row2 col2\" >8768.570828</td>\n",
       "                        <td id=\"T_f22bc918_e3f2_11eb_9a9d_7cd1c3f5df4drow2_col3\" class=\"data row2 col3\" >320.942611</td>\n",
       "                        <td id=\"T_f22bc918_e3f2_11eb_9a9d_7cd1c3f5df4drow2_col4\" class=\"data row2 col4\" >15666.690297</td>\n",
       "                        <td id=\"T_f22bc918_e3f2_11eb_9a9d_7cd1c3f5df4drow2_col5\" class=\"data row2 col5\" >20927.833607</td>\n",
       "                        <td id=\"T_f22bc918_e3f2_11eb_9a9d_7cd1c3f5df4drow2_col6\" class=\"data row2 col6\" >27332.762127</td>\n",
       "                        <td id=\"T_f22bc918_e3f2_11eb_9a9d_7cd1c3f5df4drow2_col7\" class=\"data row2 col7\" >61227.196008</td>\n",
       "            </tr>\n",
       "            <tr>\n",
       "                        <th id=\"T_f22bc918_e3f2_11eb_9a9d_7cd1c3f5df4dlevel0_row3\" class=\"row_heading level0 row3\" >Chloramines</th>\n",
       "                        <td id=\"T_f22bc918_e3f2_11eb_9a9d_7cd1c3f5df4drow3_col0\" class=\"data row3 col0\" >3276.000000</td>\n",
       "                        <td id=\"T_f22bc918_e3f2_11eb_9a9d_7cd1c3f5df4drow3_col1\" class=\"data row3 col1\" >7.122277</td>\n",
       "                        <td id=\"T_f22bc918_e3f2_11eb_9a9d_7cd1c3f5df4drow3_col2\" class=\"data row3 col2\" >1.583085</td>\n",
       "                        <td id=\"T_f22bc918_e3f2_11eb_9a9d_7cd1c3f5df4drow3_col3\" class=\"data row3 col3\" >0.352000</td>\n",
       "                        <td id=\"T_f22bc918_e3f2_11eb_9a9d_7cd1c3f5df4drow3_col4\" class=\"data row3 col4\" >6.127421</td>\n",
       "                        <td id=\"T_f22bc918_e3f2_11eb_9a9d_7cd1c3f5df4drow3_col5\" class=\"data row3 col5\" >7.130299</td>\n",
       "                        <td id=\"T_f22bc918_e3f2_11eb_9a9d_7cd1c3f5df4drow3_col6\" class=\"data row3 col6\" >8.114887</td>\n",
       "                        <td id=\"T_f22bc918_e3f2_11eb_9a9d_7cd1c3f5df4drow3_col7\" class=\"data row3 col7\" >13.127000</td>\n",
       "            </tr>\n",
       "            <tr>\n",
       "                        <th id=\"T_f22bc918_e3f2_11eb_9a9d_7cd1c3f5df4dlevel0_row4\" class=\"row_heading level0 row4\" >Sulfate</th>\n",
       "                        <td id=\"T_f22bc918_e3f2_11eb_9a9d_7cd1c3f5df4drow4_col0\" class=\"data row4 col0\" >3276.000000</td>\n",
       "                        <td id=\"T_f22bc918_e3f2_11eb_9a9d_7cd1c3f5df4drow4_col1\" class=\"data row4 col1\" >333.785123</td>\n",
       "                        <td id=\"T_f22bc918_e3f2_11eb_9a9d_7cd1c3f5df4drow4_col2\" class=\"data row4 col2\" >36.145701</td>\n",
       "                        <td id=\"T_f22bc918_e3f2_11eb_9a9d_7cd1c3f5df4drow4_col3\" class=\"data row4 col3\" >129.000000</td>\n",
       "                        <td id=\"T_f22bc918_e3f2_11eb_9a9d_7cd1c3f5df4drow4_col4\" class=\"data row4 col4\" >317.094638</td>\n",
       "                        <td id=\"T_f22bc918_e3f2_11eb_9a9d_7cd1c3f5df4drow4_col5\" class=\"data row4 col5\" >334.564290</td>\n",
       "                        <td id=\"T_f22bc918_e3f2_11eb_9a9d_7cd1c3f5df4drow4_col6\" class=\"data row4 col6\" >350.385756</td>\n",
       "                        <td id=\"T_f22bc918_e3f2_11eb_9a9d_7cd1c3f5df4drow4_col7\" class=\"data row4 col7\" >481.030642</td>\n",
       "            </tr>\n",
       "            <tr>\n",
       "                        <th id=\"T_f22bc918_e3f2_11eb_9a9d_7cd1c3f5df4dlevel0_row5\" class=\"row_heading level0 row5\" >Conductivity</th>\n",
       "                        <td id=\"T_f22bc918_e3f2_11eb_9a9d_7cd1c3f5df4drow5_col0\" class=\"data row5 col0\" >3276.000000</td>\n",
       "                        <td id=\"T_f22bc918_e3f2_11eb_9a9d_7cd1c3f5df4drow5_col1\" class=\"data row5 col1\" >426.205111</td>\n",
       "                        <td id=\"T_f22bc918_e3f2_11eb_9a9d_7cd1c3f5df4drow5_col2\" class=\"data row5 col2\" >80.824064</td>\n",
       "                        <td id=\"T_f22bc918_e3f2_11eb_9a9d_7cd1c3f5df4drow5_col3\" class=\"data row5 col3\" >181.483754</td>\n",
       "                        <td id=\"T_f22bc918_e3f2_11eb_9a9d_7cd1c3f5df4drow5_col4\" class=\"data row5 col4\" >365.734414</td>\n",
       "                        <td id=\"T_f22bc918_e3f2_11eb_9a9d_7cd1c3f5df4drow5_col5\" class=\"data row5 col5\" >421.884968</td>\n",
       "                        <td id=\"T_f22bc918_e3f2_11eb_9a9d_7cd1c3f5df4drow5_col6\" class=\"data row5 col6\" >481.792304</td>\n",
       "                        <td id=\"T_f22bc918_e3f2_11eb_9a9d_7cd1c3f5df4drow5_col7\" class=\"data row5 col7\" >753.342620</td>\n",
       "            </tr>\n",
       "            <tr>\n",
       "                        <th id=\"T_f22bc918_e3f2_11eb_9a9d_7cd1c3f5df4dlevel0_row6\" class=\"row_heading level0 row6\" >Organic_carbon</th>\n",
       "                        <td id=\"T_f22bc918_e3f2_11eb_9a9d_7cd1c3f5df4drow6_col0\" class=\"data row6 col0\" >3276.000000</td>\n",
       "                        <td id=\"T_f22bc918_e3f2_11eb_9a9d_7cd1c3f5df4drow6_col1\" class=\"data row6 col1\" >14.284970</td>\n",
       "                        <td id=\"T_f22bc918_e3f2_11eb_9a9d_7cd1c3f5df4drow6_col2\" class=\"data row6 col2\" >3.308162</td>\n",
       "                        <td id=\"T_f22bc918_e3f2_11eb_9a9d_7cd1c3f5df4drow6_col3\" class=\"data row6 col3\" >2.200000</td>\n",
       "                        <td id=\"T_f22bc918_e3f2_11eb_9a9d_7cd1c3f5df4drow6_col4\" class=\"data row6 col4\" >12.065801</td>\n",
       "                        <td id=\"T_f22bc918_e3f2_11eb_9a9d_7cd1c3f5df4drow6_col5\" class=\"data row6 col5\" >14.218338</td>\n",
       "                        <td id=\"T_f22bc918_e3f2_11eb_9a9d_7cd1c3f5df4drow6_col6\" class=\"data row6 col6\" >16.557652</td>\n",
       "                        <td id=\"T_f22bc918_e3f2_11eb_9a9d_7cd1c3f5df4drow6_col7\" class=\"data row6 col7\" >28.300000</td>\n",
       "            </tr>\n",
       "            <tr>\n",
       "                        <th id=\"T_f22bc918_e3f2_11eb_9a9d_7cd1c3f5df4dlevel0_row7\" class=\"row_heading level0 row7\" >Trihalomethanes</th>\n",
       "                        <td id=\"T_f22bc918_e3f2_11eb_9a9d_7cd1c3f5df4drow7_col0\" class=\"data row7 col0\" >3276.000000</td>\n",
       "                        <td id=\"T_f22bc918_e3f2_11eb_9a9d_7cd1c3f5df4drow7_col1\" class=\"data row7 col1\" >66.395671</td>\n",
       "                        <td id=\"T_f22bc918_e3f2_11eb_9a9d_7cd1c3f5df4drow7_col2\" class=\"data row7 col2\" >15.769901</td>\n",
       "                        <td id=\"T_f22bc918_e3f2_11eb_9a9d_7cd1c3f5df4drow7_col3\" class=\"data row7 col3\" >0.738000</td>\n",
       "                        <td id=\"T_f22bc918_e3f2_11eb_9a9d_7cd1c3f5df4drow7_col4\" class=\"data row7 col4\" >56.647656</td>\n",
       "                        <td id=\"T_f22bc918_e3f2_11eb_9a9d_7cd1c3f5df4drow7_col5\" class=\"data row7 col5\" >66.303555</td>\n",
       "                        <td id=\"T_f22bc918_e3f2_11eb_9a9d_7cd1c3f5df4drow7_col6\" class=\"data row7 col6\" >76.666609</td>\n",
       "                        <td id=\"T_f22bc918_e3f2_11eb_9a9d_7cd1c3f5df4drow7_col7\" class=\"data row7 col7\" >124.000000</td>\n",
       "            </tr>\n",
       "            <tr>\n",
       "                        <th id=\"T_f22bc918_e3f2_11eb_9a9d_7cd1c3f5df4dlevel0_row8\" class=\"row_heading level0 row8\" >Turbidity</th>\n",
       "                        <td id=\"T_f22bc918_e3f2_11eb_9a9d_7cd1c3f5df4drow8_col0\" class=\"data row8 col0\" >3276.000000</td>\n",
       "                        <td id=\"T_f22bc918_e3f2_11eb_9a9d_7cd1c3f5df4drow8_col1\" class=\"data row8 col1\" >3.966786</td>\n",
       "                        <td id=\"T_f22bc918_e3f2_11eb_9a9d_7cd1c3f5df4drow8_col2\" class=\"data row8 col2\" >0.780382</td>\n",
       "                        <td id=\"T_f22bc918_e3f2_11eb_9a9d_7cd1c3f5df4drow8_col3\" class=\"data row8 col3\" >1.450000</td>\n",
       "                        <td id=\"T_f22bc918_e3f2_11eb_9a9d_7cd1c3f5df4drow8_col4\" class=\"data row8 col4\" >3.439711</td>\n",
       "                        <td id=\"T_f22bc918_e3f2_11eb_9a9d_7cd1c3f5df4drow8_col5\" class=\"data row8 col5\" >3.955028</td>\n",
       "                        <td id=\"T_f22bc918_e3f2_11eb_9a9d_7cd1c3f5df4drow8_col6\" class=\"data row8 col6\" >4.500320</td>\n",
       "                        <td id=\"T_f22bc918_e3f2_11eb_9a9d_7cd1c3f5df4drow8_col7\" class=\"data row8 col7\" >6.739000</td>\n",
       "            </tr>\n",
       "    </tbody></table>"
      ],
      "text/plain": [
       "<pandas.io.formats.style.Styler at 0x7f9580d0dbb0>"
      ]
     },
     "execution_count": 224,
     "metadata": {},
     "output_type": "execute_result"
    }
   ],
   "source": [
    "data.describe().T.style.background_gradient(cmap='PuBu')"
   ]
  },
  {
   "cell_type": "markdown",
   "metadata": {},
   "source": [
    "la columna Solids (solidos) es la que tiene los estadisticos mas altos esto quiere decir que los valores de esta\n",
    "columna son los mas dispersos del dataset"
   ]
  },
  {
   "cell_type": "code",
   "execution_count": 225,
   "metadata": {},
   "outputs": [
    {
     "data": {
      "text/html": [
       "<style  type=\"text/css\" >\n",
       "#T_f38e3dfe_e3f2_11eb_9a9d_7cd1c3f5df4drow0_col0,#T_f38e3dfe_e3f2_11eb_9a9d_7cd1c3f5df4drow0_col1,#T_f38e3dfe_e3f2_11eb_9a9d_7cd1c3f5df4drow0_col2,#T_f38e3dfe_e3f2_11eb_9a9d_7cd1c3f5df4drow0_col3,#T_f38e3dfe_e3f2_11eb_9a9d_7cd1c3f5df4drow0_col4,#T_f38e3dfe_e3f2_11eb_9a9d_7cd1c3f5df4drow0_col5,#T_f38e3dfe_e3f2_11eb_9a9d_7cd1c3f5df4drow0_col6,#T_f38e3dfe_e3f2_11eb_9a9d_7cd1c3f5df4drow0_col7,#T_f38e3dfe_e3f2_11eb_9a9d_7cd1c3f5df4drow1_col0,#T_f38e3dfe_e3f2_11eb_9a9d_7cd1c3f5df4drow1_col2,#T_f38e3dfe_e3f2_11eb_9a9d_7cd1c3f5df4drow2_col0,#T_f38e3dfe_e3f2_11eb_9a9d_7cd1c3f5df4drow3_col0,#T_f38e3dfe_e3f2_11eb_9a9d_7cd1c3f5df4drow3_col1,#T_f38e3dfe_e3f2_11eb_9a9d_7cd1c3f5df4drow3_col2,#T_f38e3dfe_e3f2_11eb_9a9d_7cd1c3f5df4drow3_col3,#T_f38e3dfe_e3f2_11eb_9a9d_7cd1c3f5df4drow3_col4,#T_f38e3dfe_e3f2_11eb_9a9d_7cd1c3f5df4drow3_col5,#T_f38e3dfe_e3f2_11eb_9a9d_7cd1c3f5df4drow3_col6,#T_f38e3dfe_e3f2_11eb_9a9d_7cd1c3f5df4drow3_col7,#T_f38e3dfe_e3f2_11eb_9a9d_7cd1c3f5df4drow4_col0,#T_f38e3dfe_e3f2_11eb_9a9d_7cd1c3f5df4drow5_col0,#T_f38e3dfe_e3f2_11eb_9a9d_7cd1c3f5df4drow6_col0,#T_f38e3dfe_e3f2_11eb_9a9d_7cd1c3f5df4drow6_col1,#T_f38e3dfe_e3f2_11eb_9a9d_7cd1c3f5df4drow6_col2,#T_f38e3dfe_e3f2_11eb_9a9d_7cd1c3f5df4drow6_col3,#T_f38e3dfe_e3f2_11eb_9a9d_7cd1c3f5df4drow6_col4,#T_f38e3dfe_e3f2_11eb_9a9d_7cd1c3f5df4drow6_col5,#T_f38e3dfe_e3f2_11eb_9a9d_7cd1c3f5df4drow6_col6,#T_f38e3dfe_e3f2_11eb_9a9d_7cd1c3f5df4drow6_col7,#T_f38e3dfe_e3f2_11eb_9a9d_7cd1c3f5df4drow7_col0,#T_f38e3dfe_e3f2_11eb_9a9d_7cd1c3f5df4drow7_col1,#T_f38e3dfe_e3f2_11eb_9a9d_7cd1c3f5df4drow7_col2,#T_f38e3dfe_e3f2_11eb_9a9d_7cd1c3f5df4drow7_col4,#T_f38e3dfe_e3f2_11eb_9a9d_7cd1c3f5df4drow7_col5,#T_f38e3dfe_e3f2_11eb_9a9d_7cd1c3f5df4drow7_col6,#T_f38e3dfe_e3f2_11eb_9a9d_7cd1c3f5df4drow7_col7,#T_f38e3dfe_e3f2_11eb_9a9d_7cd1c3f5df4drow8_col0,#T_f38e3dfe_e3f2_11eb_9a9d_7cd1c3f5df4drow8_col1,#T_f38e3dfe_e3f2_11eb_9a9d_7cd1c3f5df4drow8_col2,#T_f38e3dfe_e3f2_11eb_9a9d_7cd1c3f5df4drow8_col3,#T_f38e3dfe_e3f2_11eb_9a9d_7cd1c3f5df4drow8_col4,#T_f38e3dfe_e3f2_11eb_9a9d_7cd1c3f5df4drow8_col5,#T_f38e3dfe_e3f2_11eb_9a9d_7cd1c3f5df4drow8_col6,#T_f38e3dfe_e3f2_11eb_9a9d_7cd1c3f5df4drow8_col7{\n",
       "            background-color:  #fff7fb;\n",
       "            color:  #000000;\n",
       "        }#T_f38e3dfe_e3f2_11eb_9a9d_7cd1c3f5df4drow1_col1,#T_f38e3dfe_e3f2_11eb_9a9d_7cd1c3f5df4drow1_col4,#T_f38e3dfe_e3f2_11eb_9a9d_7cd1c3f5df4drow1_col5,#T_f38e3dfe_e3f2_11eb_9a9d_7cd1c3f5df4drow4_col7,#T_f38e3dfe_e3f2_11eb_9a9d_7cd1c3f5df4drow5_col2,#T_f38e3dfe_e3f2_11eb_9a9d_7cd1c3f5df4drow7_col3{\n",
       "            background-color:  #fef6fa;\n",
       "            color:  #000000;\n",
       "        }#T_f38e3dfe_e3f2_11eb_9a9d_7cd1c3f5df4drow1_col3{\n",
       "            background-color:  #f5eff6;\n",
       "            color:  #000000;\n",
       "        }#T_f38e3dfe_e3f2_11eb_9a9d_7cd1c3f5df4drow1_col6,#T_f38e3dfe_e3f2_11eb_9a9d_7cd1c3f5df4drow1_col7,#T_f38e3dfe_e3f2_11eb_9a9d_7cd1c3f5df4drow4_col2{\n",
       "            background-color:  #fef6fb;\n",
       "            color:  #000000;\n",
       "        }#T_f38e3dfe_e3f2_11eb_9a9d_7cd1c3f5df4drow2_col1,#T_f38e3dfe_e3f2_11eb_9a9d_7cd1c3f5df4drow2_col2,#T_f38e3dfe_e3f2_11eb_9a9d_7cd1c3f5df4drow2_col3,#T_f38e3dfe_e3f2_11eb_9a9d_7cd1c3f5df4drow2_col4,#T_f38e3dfe_e3f2_11eb_9a9d_7cd1c3f5df4drow2_col5,#T_f38e3dfe_e3f2_11eb_9a9d_7cd1c3f5df4drow2_col6,#T_f38e3dfe_e3f2_11eb_9a9d_7cd1c3f5df4drow2_col7{\n",
       "            background-color:  #023858;\n",
       "            color:  #f1f1f1;\n",
       "        }#T_f38e3dfe_e3f2_11eb_9a9d_7cd1c3f5df4drow4_col1,#T_f38e3dfe_e3f2_11eb_9a9d_7cd1c3f5df4drow4_col5,#T_f38e3dfe_e3f2_11eb_9a9d_7cd1c3f5df4drow4_col6,#T_f38e3dfe_e3f2_11eb_9a9d_7cd1c3f5df4drow5_col1,#T_f38e3dfe_e3f2_11eb_9a9d_7cd1c3f5df4drow5_col6,#T_f38e3dfe_e3f2_11eb_9a9d_7cd1c3f5df4drow5_col7{\n",
       "            background-color:  #fdf5fa;\n",
       "            color:  #000000;\n",
       "        }#T_f38e3dfe_e3f2_11eb_9a9d_7cd1c3f5df4drow4_col3{\n",
       "            background-color:  #e0deed;\n",
       "            color:  #000000;\n",
       "        }#T_f38e3dfe_e3f2_11eb_9a9d_7cd1c3f5df4drow4_col4,#T_f38e3dfe_e3f2_11eb_9a9d_7cd1c3f5df4drow5_col4,#T_f38e3dfe_e3f2_11eb_9a9d_7cd1c3f5df4drow5_col5{\n",
       "            background-color:  #fcf4fa;\n",
       "            color:  #000000;\n",
       "        }#T_f38e3dfe_e3f2_11eb_9a9d_7cd1c3f5df4drow5_col3{\n",
       "            background-color:  #c8cde4;\n",
       "            color:  #000000;\n",
       "        }</style><table id=\"T_f38e3dfe_e3f2_11eb_9a9d_7cd1c3f5df4d\" ><thead>    <tr>        <th class=\"blank level0\" ></th>        <th class=\"col_heading level0 col0\" >count</th>        <th class=\"col_heading level0 col1\" >mean</th>        <th class=\"col_heading level0 col2\" >std</th>        <th class=\"col_heading level0 col3\" >min</th>        <th class=\"col_heading level0 col4\" >25%</th>        <th class=\"col_heading level0 col5\" >50%</th>        <th class=\"col_heading level0 col6\" >75%</th>        <th class=\"col_heading level0 col7\" >max</th>    </tr></thead><tbody>\n",
       "                <tr>\n",
       "                        <th id=\"T_f38e3dfe_e3f2_11eb_9a9d_7cd1c3f5df4dlevel0_row0\" class=\"row_heading level0 row0\" >ph</th>\n",
       "                        <td id=\"T_f38e3dfe_e3f2_11eb_9a9d_7cd1c3f5df4drow0_col0\" class=\"data row0 col0\" >1278.000000</td>\n",
       "                        <td id=\"T_f38e3dfe_e3f2_11eb_9a9d_7cd1c3f5df4drow0_col1\" class=\"data row0 col1\" >7.073783</td>\n",
       "                        <td id=\"T_f38e3dfe_e3f2_11eb_9a9d_7cd1c3f5df4drow0_col2\" class=\"data row0 col2\" >1.343952</td>\n",
       "                        <td id=\"T_f38e3dfe_e3f2_11eb_9a9d_7cd1c3f5df4drow0_col3\" class=\"data row0 col3\" >0.227499</td>\n",
       "                        <td id=\"T_f38e3dfe_e3f2_11eb_9a9d_7cd1c3f5df4drow0_col4\" class=\"data row0 col4\" >6.351824</td>\n",
       "                        <td id=\"T_f38e3dfe_e3f2_11eb_9a9d_7cd1c3f5df4drow0_col5\" class=\"data row0 col5\" >7.073783</td>\n",
       "                        <td id=\"T_f38e3dfe_e3f2_11eb_9a9d_7cd1c3f5df4drow0_col6\" class=\"data row0 col6\" >7.780068</td>\n",
       "                        <td id=\"T_f38e3dfe_e3f2_11eb_9a9d_7cd1c3f5df4drow0_col7\" class=\"data row0 col7\" >13.175402</td>\n",
       "            </tr>\n",
       "            <tr>\n",
       "                        <th id=\"T_f38e3dfe_e3f2_11eb_9a9d_7cd1c3f5df4dlevel0_row1\" class=\"row_heading level0 row1\" >Hardness</th>\n",
       "                        <td id=\"T_f38e3dfe_e3f2_11eb_9a9d_7cd1c3f5df4drow1_col0\" class=\"data row1 col0\" >1278.000000</td>\n",
       "                        <td id=\"T_f38e3dfe_e3f2_11eb_9a9d_7cd1c3f5df4drow1_col1\" class=\"data row1 col1\" >195.800744</td>\n",
       "                        <td id=\"T_f38e3dfe_e3f2_11eb_9a9d_7cd1c3f5df4drow1_col2\" class=\"data row1 col2\" >35.547041</td>\n",
       "                        <td id=\"T_f38e3dfe_e3f2_11eb_9a9d_7cd1c3f5df4drow1_col3\" class=\"data row1 col3\" >47.432000</td>\n",
       "                        <td id=\"T_f38e3dfe_e3f2_11eb_9a9d_7cd1c3f5df4drow1_col4\" class=\"data row1 col4\" >174.330531</td>\n",
       "                        <td id=\"T_f38e3dfe_e3f2_11eb_9a9d_7cd1c3f5df4drow1_col5\" class=\"data row1 col5\" >196.632907</td>\n",
       "                        <td id=\"T_f38e3dfe_e3f2_11eb_9a9d_7cd1c3f5df4drow1_col6\" class=\"data row1 col6\" >218.003420</td>\n",
       "                        <td id=\"T_f38e3dfe_e3f2_11eb_9a9d_7cd1c3f5df4drow1_col7\" class=\"data row1 col7\" >323.124000</td>\n",
       "            </tr>\n",
       "            <tr>\n",
       "                        <th id=\"T_f38e3dfe_e3f2_11eb_9a9d_7cd1c3f5df4dlevel0_row2\" class=\"row_heading level0 row2\" >Solids</th>\n",
       "                        <td id=\"T_f38e3dfe_e3f2_11eb_9a9d_7cd1c3f5df4drow2_col0\" class=\"data row2 col0\" >1278.000000</td>\n",
       "                        <td id=\"T_f38e3dfe_e3f2_11eb_9a9d_7cd1c3f5df4drow2_col1\" class=\"data row2 col1\" >22383.991018</td>\n",
       "                        <td id=\"T_f38e3dfe_e3f2_11eb_9a9d_7cd1c3f5df4drow2_col2\" class=\"data row2 col2\" >9101.010208</td>\n",
       "                        <td id=\"T_f38e3dfe_e3f2_11eb_9a9d_7cd1c3f5df4drow2_col3\" class=\"data row2 col3\" >728.750830</td>\n",
       "                        <td id=\"T_f38e3dfe_e3f2_11eb_9a9d_7cd1c3f5df4drow2_col4\" class=\"data row2 col4\" >15668.985035</td>\n",
       "                        <td id=\"T_f38e3dfe_e3f2_11eb_9a9d_7cd1c3f5df4drow2_col5\" class=\"data row2 col5\" >21199.386614</td>\n",
       "                        <td id=\"T_f38e3dfe_e3f2_11eb_9a9d_7cd1c3f5df4drow2_col6\" class=\"data row2 col6\" >27973.236446</td>\n",
       "                        <td id=\"T_f38e3dfe_e3f2_11eb_9a9d_7cd1c3f5df4drow2_col7\" class=\"data row2 col7\" >56488.672413</td>\n",
       "            </tr>\n",
       "            <tr>\n",
       "                        <th id=\"T_f38e3dfe_e3f2_11eb_9a9d_7cd1c3f5df4dlevel0_row3\" class=\"row_heading level0 row3\" >Chloramines</th>\n",
       "                        <td id=\"T_f38e3dfe_e3f2_11eb_9a9d_7cd1c3f5df4drow3_col0\" class=\"data row3 col0\" >1278.000000</td>\n",
       "                        <td id=\"T_f38e3dfe_e3f2_11eb_9a9d_7cd1c3f5df4drow3_col1\" class=\"data row3 col1\" >7.169338</td>\n",
       "                        <td id=\"T_f38e3dfe_e3f2_11eb_9a9d_7cd1c3f5df4drow3_col2\" class=\"data row3 col2\" >1.702988</td>\n",
       "                        <td id=\"T_f38e3dfe_e3f2_11eb_9a9d_7cd1c3f5df4drow3_col3\" class=\"data row3 col3\" >0.352000</td>\n",
       "                        <td id=\"T_f38e3dfe_e3f2_11eb_9a9d_7cd1c3f5df4drow3_col4\" class=\"data row3 col4\" >6.094134</td>\n",
       "                        <td id=\"T_f38e3dfe_e3f2_11eb_9a9d_7cd1c3f5df4drow3_col5\" class=\"data row3 col5\" >7.215163</td>\n",
       "                        <td id=\"T_f38e3dfe_e3f2_11eb_9a9d_7cd1c3f5df4drow3_col6\" class=\"data row3 col6\" >8.199261</td>\n",
       "                        <td id=\"T_f38e3dfe_e3f2_11eb_9a9d_7cd1c3f5df4drow3_col7\" class=\"data row3 col7\" >13.127000</td>\n",
       "            </tr>\n",
       "            <tr>\n",
       "                        <th id=\"T_f38e3dfe_e3f2_11eb_9a9d_7cd1c3f5df4dlevel0_row4\" class=\"row_heading level0 row4\" >Sulfate</th>\n",
       "                        <td id=\"T_f38e3dfe_e3f2_11eb_9a9d_7cd1c3f5df4drow4_col0\" class=\"data row4 col0\" >1278.000000</td>\n",
       "                        <td id=\"T_f38e3dfe_e3f2_11eb_9a9d_7cd1c3f5df4drow4_col1\" class=\"data row4 col1\" >332.566990</td>\n",
       "                        <td id=\"T_f38e3dfe_e3f2_11eb_9a9d_7cd1c3f5df4drow4_col2\" class=\"data row4 col2\" >41.865385</td>\n",
       "                        <td id=\"T_f38e3dfe_e3f2_11eb_9a9d_7cd1c3f5df4drow4_col3\" class=\"data row4 col3\" >129.000000</td>\n",
       "                        <td id=\"T_f38e3dfe_e3f2_11eb_9a9d_7cd1c3f5df4drow4_col4\" class=\"data row4 col4\" >313.052947</td>\n",
       "                        <td id=\"T_f38e3dfe_e3f2_11eb_9a9d_7cd1c3f5df4drow4_col5\" class=\"data row4 col5\" >332.566990</td>\n",
       "                        <td id=\"T_f38e3dfe_e3f2_11eb_9a9d_7cd1c3f5df4drow4_col6\" class=\"data row4 col6\" >354.807924</td>\n",
       "                        <td id=\"T_f38e3dfe_e3f2_11eb_9a9d_7cd1c3f5df4drow4_col7\" class=\"data row4 col7\" >481.030642</td>\n",
       "            </tr>\n",
       "            <tr>\n",
       "                        <th id=\"T_f38e3dfe_e3f2_11eb_9a9d_7cd1c3f5df4dlevel0_row5\" class=\"row_heading level0 row5\" >Conductivity</th>\n",
       "                        <td id=\"T_f38e3dfe_e3f2_11eb_9a9d_7cd1c3f5df4drow5_col0\" class=\"data row5 col0\" >1278.000000</td>\n",
       "                        <td id=\"T_f38e3dfe_e3f2_11eb_9a9d_7cd1c3f5df4drow5_col1\" class=\"data row5 col1\" >425.383800</td>\n",
       "                        <td id=\"T_f38e3dfe_e3f2_11eb_9a9d_7cd1c3f5df4drow5_col2\" class=\"data row5 col2\" >82.048446</td>\n",
       "                        <td id=\"T_f38e3dfe_e3f2_11eb_9a9d_7cd1c3f5df4drow5_col3\" class=\"data row5 col3\" >201.619737</td>\n",
       "                        <td id=\"T_f38e3dfe_e3f2_11eb_9a9d_7cd1c3f5df4drow5_col4\" class=\"data row5 col4\" >360.939023</td>\n",
       "                        <td id=\"T_f38e3dfe_e3f2_11eb_9a9d_7cd1c3f5df4drow5_col5\" class=\"data row5 col5\" >420.712729</td>\n",
       "                        <td id=\"T_f38e3dfe_e3f2_11eb_9a9d_7cd1c3f5df4drow5_col6\" class=\"data row5 col6\" >484.155911</td>\n",
       "                        <td id=\"T_f38e3dfe_e3f2_11eb_9a9d_7cd1c3f5df4drow5_col7\" class=\"data row5 col7\" >695.369528</td>\n",
       "            </tr>\n",
       "            <tr>\n",
       "                        <th id=\"T_f38e3dfe_e3f2_11eb_9a9d_7cd1c3f5df4dlevel0_row6\" class=\"row_heading level0 row6\" >Organic_carbon</th>\n",
       "                        <td id=\"T_f38e3dfe_e3f2_11eb_9a9d_7cd1c3f5df4drow6_col0\" class=\"data row6 col0\" >1278.000000</td>\n",
       "                        <td id=\"T_f38e3dfe_e3f2_11eb_9a9d_7cd1c3f5df4drow6_col1\" class=\"data row6 col1\" >14.160893</td>\n",
       "                        <td id=\"T_f38e3dfe_e3f2_11eb_9a9d_7cd1c3f5df4drow6_col2\" class=\"data row6 col2\" >3.263907</td>\n",
       "                        <td id=\"T_f38e3dfe_e3f2_11eb_9a9d_7cd1c3f5df4drow6_col3\" class=\"data row6 col3\" >2.200000</td>\n",
       "                        <td id=\"T_f38e3dfe_e3f2_11eb_9a9d_7cd1c3f5df4drow6_col4\" class=\"data row6 col4\" >12.033897</td>\n",
       "                        <td id=\"T_f38e3dfe_e3f2_11eb_9a9d_7cd1c3f5df4drow6_col5\" class=\"data row6 col5\" >14.162809</td>\n",
       "                        <td id=\"T_f38e3dfe_e3f2_11eb_9a9d_7cd1c3f5df4drow6_col6\" class=\"data row6 col6\" >16.356245</td>\n",
       "                        <td id=\"T_f38e3dfe_e3f2_11eb_9a9d_7cd1c3f5df4drow6_col7\" class=\"data row6 col7\" >23.604298</td>\n",
       "            </tr>\n",
       "            <tr>\n",
       "                        <th id=\"T_f38e3dfe_e3f2_11eb_9a9d_7cd1c3f5df4dlevel0_row7\" class=\"row_heading level0 row7\" >Trihalomethanes</th>\n",
       "                        <td id=\"T_f38e3dfe_e3f2_11eb_9a9d_7cd1c3f5df4drow7_col0\" class=\"data row7 col0\" >1278.000000</td>\n",
       "                        <td id=\"T_f38e3dfe_e3f2_11eb_9a9d_7cd1c3f5df4drow7_col1\" class=\"data row7 col1\" >66.539684</td>\n",
       "                        <td id=\"T_f38e3dfe_e3f2_11eb_9a9d_7cd1c3f5df4drow7_col2\" class=\"data row7 col2\" >15.971941</td>\n",
       "                        <td id=\"T_f38e3dfe_e3f2_11eb_9a9d_7cd1c3f5df4drow7_col3\" class=\"data row7 col3\" >8.175876</td>\n",
       "                        <td id=\"T_f38e3dfe_e3f2_11eb_9a9d_7cd1c3f5df4drow7_col4\" class=\"data row7 col4\" >56.911186</td>\n",
       "                        <td id=\"T_f38e3dfe_e3f2_11eb_9a9d_7cd1c3f5df4drow7_col5\" class=\"data row7 col5\" >66.539684</td>\n",
       "                        <td id=\"T_f38e3dfe_e3f2_11eb_9a9d_7cd1c3f5df4drow7_col6\" class=\"data row7 col6\" >77.067457</td>\n",
       "                        <td id=\"T_f38e3dfe_e3f2_11eb_9a9d_7cd1c3f5df4drow7_col7\" class=\"data row7 col7\" >124.000000</td>\n",
       "            </tr>\n",
       "            <tr>\n",
       "                        <th id=\"T_f38e3dfe_e3f2_11eb_9a9d_7cd1c3f5df4dlevel0_row8\" class=\"row_heading level0 row8\" >Turbidity</th>\n",
       "                        <td id=\"T_f38e3dfe_e3f2_11eb_9a9d_7cd1c3f5df4drow8_col0\" class=\"data row8 col0\" >1278.000000</td>\n",
       "                        <td id=\"T_f38e3dfe_e3f2_11eb_9a9d_7cd1c3f5df4drow8_col1\" class=\"data row8 col1\" >3.968328</td>\n",
       "                        <td id=\"T_f38e3dfe_e3f2_11eb_9a9d_7cd1c3f5df4drow8_col2\" class=\"data row8 col2\" >0.780842</td>\n",
       "                        <td id=\"T_f38e3dfe_e3f2_11eb_9a9d_7cd1c3f5df4drow8_col3\" class=\"data row8 col3\" >1.492207</td>\n",
       "                        <td id=\"T_f38e3dfe_e3f2_11eb_9a9d_7cd1c3f5df4drow8_col4\" class=\"data row8 col4\" >3.430909</td>\n",
       "                        <td id=\"T_f38e3dfe_e3f2_11eb_9a9d_7cd1c3f5df4drow8_col5\" class=\"data row8 col5\" >3.958576</td>\n",
       "                        <td id=\"T_f38e3dfe_e3f2_11eb_9a9d_7cd1c3f5df4drow8_col6\" class=\"data row8 col6\" >4.509569</td>\n",
       "                        <td id=\"T_f38e3dfe_e3f2_11eb_9a9d_7cd1c3f5df4drow8_col7\" class=\"data row8 col7\" >6.494249</td>\n",
       "            </tr>\n",
       "    </tbody></table>"
      ],
      "text/plain": [
       "<pandas.io.formats.style.Styler at 0x7f957ed8c070>"
      ]
     },
     "execution_count": 225,
     "metadata": {},
     "output_type": "execute_result"
    }
   ],
   "source": [
    "# Potabilidad es 1 - significa bueno para humanos\n",
    "data[data['Potability']==1].describe().T.style.background_gradient(cmap='PuBu')"
   ]
  },
  {
   "cell_type": "code",
   "execution_count": 226,
   "metadata": {},
   "outputs": [
    {
     "data": {
      "text/html": [
       "<style  type=\"text/css\" >\n",
       "#T_f3d584a2_e3f2_11eb_9a9d_7cd1c3f5df4drow0_col0,#T_f3d584a2_e3f2_11eb_9a9d_7cd1c3f5df4drow0_col1,#T_f3d584a2_e3f2_11eb_9a9d_7cd1c3f5df4drow0_col2,#T_f3d584a2_e3f2_11eb_9a9d_7cd1c3f5df4drow0_col3,#T_f3d584a2_e3f2_11eb_9a9d_7cd1c3f5df4drow0_col4,#T_f3d584a2_e3f2_11eb_9a9d_7cd1c3f5df4drow0_col5,#T_f3d584a2_e3f2_11eb_9a9d_7cd1c3f5df4drow0_col6,#T_f3d584a2_e3f2_11eb_9a9d_7cd1c3f5df4drow0_col7,#T_f3d584a2_e3f2_11eb_9a9d_7cd1c3f5df4drow1_col0,#T_f3d584a2_e3f2_11eb_9a9d_7cd1c3f5df4drow1_col2,#T_f3d584a2_e3f2_11eb_9a9d_7cd1c3f5df4drow2_col0,#T_f3d584a2_e3f2_11eb_9a9d_7cd1c3f5df4drow3_col0,#T_f3d584a2_e3f2_11eb_9a9d_7cd1c3f5df4drow3_col1,#T_f3d584a2_e3f2_11eb_9a9d_7cd1c3f5df4drow3_col2,#T_f3d584a2_e3f2_11eb_9a9d_7cd1c3f5df4drow3_col4,#T_f3d584a2_e3f2_11eb_9a9d_7cd1c3f5df4drow3_col5,#T_f3d584a2_e3f2_11eb_9a9d_7cd1c3f5df4drow3_col6,#T_f3d584a2_e3f2_11eb_9a9d_7cd1c3f5df4drow3_col7,#T_f3d584a2_e3f2_11eb_9a9d_7cd1c3f5df4drow4_col0,#T_f3d584a2_e3f2_11eb_9a9d_7cd1c3f5df4drow4_col2,#T_f3d584a2_e3f2_11eb_9a9d_7cd1c3f5df4drow5_col0,#T_f3d584a2_e3f2_11eb_9a9d_7cd1c3f5df4drow6_col0,#T_f3d584a2_e3f2_11eb_9a9d_7cd1c3f5df4drow6_col1,#T_f3d584a2_e3f2_11eb_9a9d_7cd1c3f5df4drow6_col2,#T_f3d584a2_e3f2_11eb_9a9d_7cd1c3f5df4drow6_col4,#T_f3d584a2_e3f2_11eb_9a9d_7cd1c3f5df4drow6_col5,#T_f3d584a2_e3f2_11eb_9a9d_7cd1c3f5df4drow6_col6,#T_f3d584a2_e3f2_11eb_9a9d_7cd1c3f5df4drow6_col7,#T_f3d584a2_e3f2_11eb_9a9d_7cd1c3f5df4drow7_col0,#T_f3d584a2_e3f2_11eb_9a9d_7cd1c3f5df4drow7_col1,#T_f3d584a2_e3f2_11eb_9a9d_7cd1c3f5df4drow7_col2,#T_f3d584a2_e3f2_11eb_9a9d_7cd1c3f5df4drow7_col3,#T_f3d584a2_e3f2_11eb_9a9d_7cd1c3f5df4drow7_col4,#T_f3d584a2_e3f2_11eb_9a9d_7cd1c3f5df4drow7_col5,#T_f3d584a2_e3f2_11eb_9a9d_7cd1c3f5df4drow7_col6,#T_f3d584a2_e3f2_11eb_9a9d_7cd1c3f5df4drow7_col7,#T_f3d584a2_e3f2_11eb_9a9d_7cd1c3f5df4drow8_col0,#T_f3d584a2_e3f2_11eb_9a9d_7cd1c3f5df4drow8_col1,#T_f3d584a2_e3f2_11eb_9a9d_7cd1c3f5df4drow8_col2,#T_f3d584a2_e3f2_11eb_9a9d_7cd1c3f5df4drow8_col4,#T_f3d584a2_e3f2_11eb_9a9d_7cd1c3f5df4drow8_col5,#T_f3d584a2_e3f2_11eb_9a9d_7cd1c3f5df4drow8_col6,#T_f3d584a2_e3f2_11eb_9a9d_7cd1c3f5df4drow8_col7{\n",
       "            background-color:  #67001f;\n",
       "            color:  #f1f1f1;\n",
       "        }#T_f3d584a2_e3f2_11eb_9a9d_7cd1c3f5df4drow1_col1,#T_f3d584a2_e3f2_11eb_9a9d_7cd1c3f5df4drow1_col4,#T_f3d584a2_e3f2_11eb_9a9d_7cd1c3f5df4drow1_col5,#T_f3d584a2_e3f2_11eb_9a9d_7cd1c3f5df4drow1_col6,#T_f3d584a2_e3f2_11eb_9a9d_7cd1c3f5df4drow5_col2{\n",
       "            background-color:  #6d0220;\n",
       "            color:  #f1f1f1;\n",
       "        }#T_f3d584a2_e3f2_11eb_9a9d_7cd1c3f5df4drow1_col3{\n",
       "            background-color:  #f5a886;\n",
       "            color:  #000000;\n",
       "        }#T_f3d584a2_e3f2_11eb_9a9d_7cd1c3f5df4drow1_col7,#T_f3d584a2_e3f2_11eb_9a9d_7cd1c3f5df4drow3_col3,#T_f3d584a2_e3f2_11eb_9a9d_7cd1c3f5df4drow4_col7,#T_f3d584a2_e3f2_11eb_9a9d_7cd1c3f5df4drow8_col3{\n",
       "            background-color:  #6a011f;\n",
       "            color:  #f1f1f1;\n",
       "        }#T_f3d584a2_e3f2_11eb_9a9d_7cd1c3f5df4drow2_col1,#T_f3d584a2_e3f2_11eb_9a9d_7cd1c3f5df4drow2_col2,#T_f3d584a2_e3f2_11eb_9a9d_7cd1c3f5df4drow2_col3,#T_f3d584a2_e3f2_11eb_9a9d_7cd1c3f5df4drow2_col4,#T_f3d584a2_e3f2_11eb_9a9d_7cd1c3f5df4drow2_col5,#T_f3d584a2_e3f2_11eb_9a9d_7cd1c3f5df4drow2_col6,#T_f3d584a2_e3f2_11eb_9a9d_7cd1c3f5df4drow2_col7{\n",
       "            background-color:  #053061;\n",
       "            color:  #f1f1f1;\n",
       "        }#T_f3d584a2_e3f2_11eb_9a9d_7cd1c3f5df4drow4_col1,#T_f3d584a2_e3f2_11eb_9a9d_7cd1c3f5df4drow4_col6,#T_f3d584a2_e3f2_11eb_9a9d_7cd1c3f5df4drow5_col7,#T_f3d584a2_e3f2_11eb_9a9d_7cd1c3f5df4drow6_col3{\n",
       "            background-color:  #700320;\n",
       "            color:  #f1f1f1;\n",
       "        }#T_f3d584a2_e3f2_11eb_9a9d_7cd1c3f5df4drow4_col3{\n",
       "            background-color:  #bbdaea;\n",
       "            color:  #000000;\n",
       "        }#T_f3d584a2_e3f2_11eb_9a9d_7cd1c3f5df4drow4_col4,#T_f3d584a2_e3f2_11eb_9a9d_7cd1c3f5df4drow5_col4,#T_f3d584a2_e3f2_11eb_9a9d_7cd1c3f5df4drow5_col5{\n",
       "            background-color:  #760521;\n",
       "            color:  #f1f1f1;\n",
       "        }#T_f3d584a2_e3f2_11eb_9a9d_7cd1c3f5df4drow4_col5,#T_f3d584a2_e3f2_11eb_9a9d_7cd1c3f5df4drow5_col1,#T_f3d584a2_e3f2_11eb_9a9d_7cd1c3f5df4drow5_col6{\n",
       "            background-color:  #730421;\n",
       "            color:  #f1f1f1;\n",
       "        }#T_f3d584a2_e3f2_11eb_9a9d_7cd1c3f5df4drow5_col3{\n",
       "            background-color:  #deebf2;\n",
       "            color:  #000000;\n",
       "        }</style><table id=\"T_f3d584a2_e3f2_11eb_9a9d_7cd1c3f5df4d\" ><thead>    <tr>        <th class=\"blank level0\" ></th>        <th class=\"col_heading level0 col0\" >count</th>        <th class=\"col_heading level0 col1\" >mean</th>        <th class=\"col_heading level0 col2\" >std</th>        <th class=\"col_heading level0 col3\" >min</th>        <th class=\"col_heading level0 col4\" >25%</th>        <th class=\"col_heading level0 col5\" >50%</th>        <th class=\"col_heading level0 col6\" >75%</th>        <th class=\"col_heading level0 col7\" >max</th>    </tr></thead><tbody>\n",
       "                <tr>\n",
       "                        <th id=\"T_f3d584a2_e3f2_11eb_9a9d_7cd1c3f5df4dlevel0_row0\" class=\"row_heading level0 row0\" >ph</th>\n",
       "                        <td id=\"T_f3d584a2_e3f2_11eb_9a9d_7cd1c3f5df4drow0_col0\" class=\"data row0 col0\" >1998.000000</td>\n",
       "                        <td id=\"T_f3d584a2_e3f2_11eb_9a9d_7cd1c3f5df4drow0_col1\" class=\"data row0 col1\" >7.085378</td>\n",
       "                        <td id=\"T_f3d584a2_e3f2_11eb_9a9d_7cd1c3f5df4drow0_col2\" class=\"data row0 col2\" >1.545489</td>\n",
       "                        <td id=\"T_f3d584a2_e3f2_11eb_9a9d_7cd1c3f5df4drow0_col3\" class=\"data row0 col3\" >0.000000</td>\n",
       "                        <td id=\"T_f3d584a2_e3f2_11eb_9a9d_7cd1c3f5df4drow0_col4\" class=\"data row0 col4\" >6.224046</td>\n",
       "                        <td id=\"T_f3d584a2_e3f2_11eb_9a9d_7cd1c3f5df4drow0_col5\" class=\"data row0 col5\" >7.085378</td>\n",
       "                        <td id=\"T_f3d584a2_e3f2_11eb_9a9d_7cd1c3f5df4drow0_col6\" class=\"data row0 col6\" >7.940697</td>\n",
       "                        <td id=\"T_f3d584a2_e3f2_11eb_9a9d_7cd1c3f5df4drow0_col7\" class=\"data row0 col7\" >14.000000</td>\n",
       "            </tr>\n",
       "            <tr>\n",
       "                        <th id=\"T_f3d584a2_e3f2_11eb_9a9d_7cd1c3f5df4dlevel0_row1\" class=\"row_heading level0 row1\" >Hardness</th>\n",
       "                        <td id=\"T_f3d584a2_e3f2_11eb_9a9d_7cd1c3f5df4drow1_col0\" class=\"data row1 col0\" >1998.000000</td>\n",
       "                        <td id=\"T_f3d584a2_e3f2_11eb_9a9d_7cd1c3f5df4drow1_col1\" class=\"data row1 col1\" >196.733292</td>\n",
       "                        <td id=\"T_f3d584a2_e3f2_11eb_9a9d_7cd1c3f5df4drow1_col2\" class=\"data row1 col2\" >31.057540</td>\n",
       "                        <td id=\"T_f3d584a2_e3f2_11eb_9a9d_7cd1c3f5df4drow1_col3\" class=\"data row1 col3\" >98.452931</td>\n",
       "                        <td id=\"T_f3d584a2_e3f2_11eb_9a9d_7cd1c3f5df4drow1_col4\" class=\"data row1 col4\" >177.823265</td>\n",
       "                        <td id=\"T_f3d584a2_e3f2_11eb_9a9d_7cd1c3f5df4drow1_col5\" class=\"data row1 col5\" >197.123423</td>\n",
       "                        <td id=\"T_f3d584a2_e3f2_11eb_9a9d_7cd1c3f5df4drow1_col6\" class=\"data row1 col6\" >216.120687</td>\n",
       "                        <td id=\"T_f3d584a2_e3f2_11eb_9a9d_7cd1c3f5df4drow1_col7\" class=\"data row1 col7\" >304.235912</td>\n",
       "            </tr>\n",
       "            <tr>\n",
       "                        <th id=\"T_f3d584a2_e3f2_11eb_9a9d_7cd1c3f5df4dlevel0_row2\" class=\"row_heading level0 row2\" >Solids</th>\n",
       "                        <td id=\"T_f3d584a2_e3f2_11eb_9a9d_7cd1c3f5df4drow2_col0\" class=\"data row2 col0\" >1998.000000</td>\n",
       "                        <td id=\"T_f3d584a2_e3f2_11eb_9a9d_7cd1c3f5df4drow2_col1\" class=\"data row2 col1\" >21777.490788</td>\n",
       "                        <td id=\"T_f3d584a2_e3f2_11eb_9a9d_7cd1c3f5df4drow2_col2\" class=\"data row2 col2\" >8543.068788</td>\n",
       "                        <td id=\"T_f3d584a2_e3f2_11eb_9a9d_7cd1c3f5df4drow2_col3\" class=\"data row2 col3\" >320.942611</td>\n",
       "                        <td id=\"T_f3d584a2_e3f2_11eb_9a9d_7cd1c3f5df4drow2_col4\" class=\"data row2 col4\" >15663.057382</td>\n",
       "                        <td id=\"T_f3d584a2_e3f2_11eb_9a9d_7cd1c3f5df4drow2_col5\" class=\"data row2 col5\" >20809.618280</td>\n",
       "                        <td id=\"T_f3d584a2_e3f2_11eb_9a9d_7cd1c3f5df4drow2_col6\" class=\"data row2 col6\" >27006.249009</td>\n",
       "                        <td id=\"T_f3d584a2_e3f2_11eb_9a9d_7cd1c3f5df4drow2_col7\" class=\"data row2 col7\" >61227.196008</td>\n",
       "            </tr>\n",
       "            <tr>\n",
       "                        <th id=\"T_f3d584a2_e3f2_11eb_9a9d_7cd1c3f5df4dlevel0_row3\" class=\"row_heading level0 row3\" >Chloramines</th>\n",
       "                        <td id=\"T_f3d584a2_e3f2_11eb_9a9d_7cd1c3f5df4drow3_col0\" class=\"data row3 col0\" >1998.000000</td>\n",
       "                        <td id=\"T_f3d584a2_e3f2_11eb_9a9d_7cd1c3f5df4drow3_col1\" class=\"data row3 col1\" >7.092175</td>\n",
       "                        <td id=\"T_f3d584a2_e3f2_11eb_9a9d_7cd1c3f5df4drow3_col2\" class=\"data row3 col2\" >1.501045</td>\n",
       "                        <td id=\"T_f3d584a2_e3f2_11eb_9a9d_7cd1c3f5df4drow3_col3\" class=\"data row3 col3\" >1.683993</td>\n",
       "                        <td id=\"T_f3d584a2_e3f2_11eb_9a9d_7cd1c3f5df4drow3_col4\" class=\"data row3 col4\" >6.155640</td>\n",
       "                        <td id=\"T_f3d584a2_e3f2_11eb_9a9d_7cd1c3f5df4drow3_col5\" class=\"data row3 col5\" >7.090334</td>\n",
       "                        <td id=\"T_f3d584a2_e3f2_11eb_9a9d_7cd1c3f5df4drow3_col6\" class=\"data row3 col6\" >8.066462</td>\n",
       "                        <td id=\"T_f3d584a2_e3f2_11eb_9a9d_7cd1c3f5df4drow3_col7\" class=\"data row3 col7\" >12.653362</td>\n",
       "            </tr>\n",
       "            <tr>\n",
       "                        <th id=\"T_f3d584a2_e3f2_11eb_9a9d_7cd1c3f5df4dlevel0_row4\" class=\"row_heading level0 row4\" >Sulfate</th>\n",
       "                        <td id=\"T_f3d584a2_e3f2_11eb_9a9d_7cd1c3f5df4drow4_col0\" class=\"data row4 col0\" >1998.000000</td>\n",
       "                        <td id=\"T_f3d584a2_e3f2_11eb_9a9d_7cd1c3f5df4drow4_col1\" class=\"data row4 col1\" >334.564290</td>\n",
       "                        <td id=\"T_f3d584a2_e3f2_11eb_9a9d_7cd1c3f5df4drow4_col2\" class=\"data row4 col2\" >31.941870</td>\n",
       "                        <td id=\"T_f3d584a2_e3f2_11eb_9a9d_7cd1c3f5df4drow4_col3\" class=\"data row4 col3\" >203.444521</td>\n",
       "                        <td id=\"T_f3d584a2_e3f2_11eb_9a9d_7cd1c3f5df4drow4_col4\" class=\"data row4 col4\" >319.354715</td>\n",
       "                        <td id=\"T_f3d584a2_e3f2_11eb_9a9d_7cd1c3f5df4drow4_col5\" class=\"data row4 col5\" >334.564290</td>\n",
       "                        <td id=\"T_f3d584a2_e3f2_11eb_9a9d_7cd1c3f5df4drow4_col6\" class=\"data row4 col6\" >348.316746</td>\n",
       "                        <td id=\"T_f3d584a2_e3f2_11eb_9a9d_7cd1c3f5df4drow4_col7\" class=\"data row4 col7\" >460.107069</td>\n",
       "            </tr>\n",
       "            <tr>\n",
       "                        <th id=\"T_f3d584a2_e3f2_11eb_9a9d_7cd1c3f5df4dlevel0_row5\" class=\"row_heading level0 row5\" >Conductivity</th>\n",
       "                        <td id=\"T_f3d584a2_e3f2_11eb_9a9d_7cd1c3f5df4drow5_col0\" class=\"data row5 col0\" >1998.000000</td>\n",
       "                        <td id=\"T_f3d584a2_e3f2_11eb_9a9d_7cd1c3f5df4drow5_col1\" class=\"data row5 col1\" >426.730454</td>\n",
       "                        <td id=\"T_f3d584a2_e3f2_11eb_9a9d_7cd1c3f5df4drow5_col2\" class=\"data row5 col2\" >80.047317</td>\n",
       "                        <td id=\"T_f3d584a2_e3f2_11eb_9a9d_7cd1c3f5df4drow5_col3\" class=\"data row5 col3\" >181.483754</td>\n",
       "                        <td id=\"T_f3d584a2_e3f2_11eb_9a9d_7cd1c3f5df4drow5_col4\" class=\"data row5 col4\" >368.498530</td>\n",
       "                        <td id=\"T_f3d584a2_e3f2_11eb_9a9d_7cd1c3f5df4drow5_col5\" class=\"data row5 col5\" >422.229331</td>\n",
       "                        <td id=\"T_f3d584a2_e3f2_11eb_9a9d_7cd1c3f5df4drow5_col6\" class=\"data row5 col6\" >480.677198</td>\n",
       "                        <td id=\"T_f3d584a2_e3f2_11eb_9a9d_7cd1c3f5df4drow5_col7\" class=\"data row5 col7\" >753.342620</td>\n",
       "            </tr>\n",
       "            <tr>\n",
       "                        <th id=\"T_f3d584a2_e3f2_11eb_9a9d_7cd1c3f5df4dlevel0_row6\" class=\"row_heading level0 row6\" >Organic_carbon</th>\n",
       "                        <td id=\"T_f3d584a2_e3f2_11eb_9a9d_7cd1c3f5df4drow6_col0\" class=\"data row6 col0\" >1998.000000</td>\n",
       "                        <td id=\"T_f3d584a2_e3f2_11eb_9a9d_7cd1c3f5df4drow6_col1\" class=\"data row6 col1\" >14.364335</td>\n",
       "                        <td id=\"T_f3d584a2_e3f2_11eb_9a9d_7cd1c3f5df4drow6_col2\" class=\"data row6 col2\" >3.334554</td>\n",
       "                        <td id=\"T_f3d584a2_e3f2_11eb_9a9d_7cd1c3f5df4drow6_col3\" class=\"data row6 col3\" >4.371899</td>\n",
       "                        <td id=\"T_f3d584a2_e3f2_11eb_9a9d_7cd1c3f5df4drow6_col4\" class=\"data row6 col4\" >12.101057</td>\n",
       "                        <td id=\"T_f3d584a2_e3f2_11eb_9a9d_7cd1c3f5df4drow6_col5\" class=\"data row6 col5\" >14.293508</td>\n",
       "                        <td id=\"T_f3d584a2_e3f2_11eb_9a9d_7cd1c3f5df4drow6_col6\" class=\"data row6 col6\" >16.649485</td>\n",
       "                        <td id=\"T_f3d584a2_e3f2_11eb_9a9d_7cd1c3f5df4drow6_col7\" class=\"data row6 col7\" >28.300000</td>\n",
       "            </tr>\n",
       "            <tr>\n",
       "                        <th id=\"T_f3d584a2_e3f2_11eb_9a9d_7cd1c3f5df4dlevel0_row7\" class=\"row_heading level0 row7\" >Trihalomethanes</th>\n",
       "                        <td id=\"T_f3d584a2_e3f2_11eb_9a9d_7cd1c3f5df4drow7_col0\" class=\"data row7 col0\" >1998.000000</td>\n",
       "                        <td id=\"T_f3d584a2_e3f2_11eb_9a9d_7cd1c3f5df4drow7_col1\" class=\"data row7 col1\" >66.303555</td>\n",
       "                        <td id=\"T_f3d584a2_e3f2_11eb_9a9d_7cd1c3f5df4drow7_col2\" class=\"data row7 col2\" >15.642622</td>\n",
       "                        <td id=\"T_f3d584a2_e3f2_11eb_9a9d_7cd1c3f5df4drow7_col3\" class=\"data row7 col3\" >0.738000</td>\n",
       "                        <td id=\"T_f3d584a2_e3f2_11eb_9a9d_7cd1c3f5df4drow7_col4\" class=\"data row7 col4\" >56.441831</td>\n",
       "                        <td id=\"T_f3d584a2_e3f2_11eb_9a9d_7cd1c3f5df4drow7_col5\" class=\"data row7 col5\" >66.303555</td>\n",
       "                        <td id=\"T_f3d584a2_e3f2_11eb_9a9d_7cd1c3f5df4drow7_col6\" class=\"data row7 col6\" >76.518849</td>\n",
       "                        <td id=\"T_f3d584a2_e3f2_11eb_9a9d_7cd1c3f5df4drow7_col7\" class=\"data row7 col7\" >120.030077</td>\n",
       "            </tr>\n",
       "            <tr>\n",
       "                        <th id=\"T_f3d584a2_e3f2_11eb_9a9d_7cd1c3f5df4dlevel0_row8\" class=\"row_heading level0 row8\" >Turbidity</th>\n",
       "                        <td id=\"T_f3d584a2_e3f2_11eb_9a9d_7cd1c3f5df4drow8_col0\" class=\"data row8 col0\" >1998.000000</td>\n",
       "                        <td id=\"T_f3d584a2_e3f2_11eb_9a9d_7cd1c3f5df4drow8_col1\" class=\"data row8 col1\" >3.965800</td>\n",
       "                        <td id=\"T_f3d584a2_e3f2_11eb_9a9d_7cd1c3f5df4drow8_col2\" class=\"data row8 col2\" >0.780282</td>\n",
       "                        <td id=\"T_f3d584a2_e3f2_11eb_9a9d_7cd1c3f5df4drow8_col3\" class=\"data row8 col3\" >1.450000</td>\n",
       "                        <td id=\"T_f3d584a2_e3f2_11eb_9a9d_7cd1c3f5df4drow8_col4\" class=\"data row8 col4\" >3.444062</td>\n",
       "                        <td id=\"T_f3d584a2_e3f2_11eb_9a9d_7cd1c3f5df4drow8_col5\" class=\"data row8 col5\" >3.948076</td>\n",
       "                        <td id=\"T_f3d584a2_e3f2_11eb_9a9d_7cd1c3f5df4drow8_col6\" class=\"data row8 col6\" >4.496106</td>\n",
       "                        <td id=\"T_f3d584a2_e3f2_11eb_9a9d_7cd1c3f5df4drow8_col7\" class=\"data row8 col7\" >6.739000</td>\n",
       "            </tr>\n",
       "    </tbody></table>"
      ],
      "text/plain": [
       "<pandas.io.formats.style.Styler at 0x7f956eba3b20>"
      ]
     },
     "execution_count": 226,
     "metadata": {},
     "output_type": "execute_result"
    }
   ],
   "source": [
    "# La potabilidad es 0 - significa que no es bueno para humanos\n",
    "data[data['Potability']==0].describe().T.style.background_gradient(cmap='RdBu')"
   ]
  },
  {
   "cell_type": "markdown",
   "metadata": {},
   "source": [
    "comparanado las tablas de agua potable y no potable se puede notar que los estadisticos de ambas tablas son muy similares esto puede afectar un poco la calidad del modelo de predicción ya que es mas dificil diferenciar que variables influyen en la calidad del agua."
   ]
  },
  {
   "cell_type": "code",
   "execution_count": 227,
   "metadata": {},
   "outputs": [
    {
     "data": {
      "text/plain": [
       "<AxesSubplot:xlabel='Potability', ylabel='count'>"
      ]
     },
     "execution_count": 227,
     "metadata": {},
     "output_type": "execute_result"
    },
    {
     "data": {
      "image/png": "[encoded data removed]",
      "text/plain": [
       "<Figure size 648x432 with 1 Axes>"
      ]
     },
     "metadata": {},
     "output_type": "display_data"
    }
   ],
   "source": [
    "import seaborn as sns\n",
    "import matplotlib.pyplot as plt\n",
    "\n",
    "sns.set(rc={'figure.figsize':(9,6)})\n",
    "sns.countplot(data['Potability'])"
   ]
  },
  {
   "cell_type": "markdown",
   "metadata": {},
   "source": [
    "en el histograma se puede ver que en el dataset la mayoria de los datos son de agua no potable"
   ]
  },
  {
   "cell_type": "markdown",
   "metadata": {},
   "source": [
    "# verifico los valores atipicos de cada una de las columnas con respecto a la Potabilidad del agua"
   ]
  },
  {
   "cell_type": "code",
   "execution_count": 228,
   "metadata": {},
   "outputs": [
    {
     "data": {
      "image/png": "[encoded data removed]",
      "text/plain": [
       "<Figure size 1080x1080 with 9 Axes>"
      ]
     },
     "metadata": {},
     "output_type": "display_data"
    }
   ],
   "source": [
    "fig, ax= plt.subplots(nrows=3,ncols=3,figsize=(15,15), constrained_layout=True)\n",
    "int_cols = data.select_dtypes(exclude=['category']).columns.to_list()\n",
    "ax=ax.flatten()\n",
    "for x, i in enumerate(int_cols):\n",
    "    sns.boxplot(data = data, y = i, x = 'Potability', ax = ax[x])\n",
    "    for s in ['left','right','top','bottom']:\n",
    "        ax[x].spines[s].set_visible(False)"
   ]
  },
  {
   "cell_type": "markdown",
   "metadata": {},
   "source": [
    "en cada columna del dataset hay gran cantidad de valores atipicos. para un modelo de prediccion esto puede genarar\n",
    "sesgo en los datos a la hora de implementar un modelo de prediccion."
   ]
  },
  {
   "cell_type": "code",
   "execution_count": 229,
   "metadata": {},
   "outputs": [
    {
     "data": {
      "text/plain": [
       "<AxesSubplot:>"
      ]
     },
     "execution_count": 229,
     "metadata": {},
     "output_type": "execute_result"
    },
    {
     "data": {
      "image/png": "[encoded data removed]",
      "text/plain": [
       "<Figure size 720x720 with 2 Axes>"
      ]
     },
     "metadata": {},
     "output_type": "display_data"
    }
   ],
   "source": [
    "# mediante una matriz de correlación verifico si hay columnas correlacionadas unas con otras\n",
    "\n",
    "fig=plt.figure(figsize=(10,10))\n",
    "sns.heatmap(data.corr(), annot=True, cmap = 'Blues_r', fmt='0.2f', square=True)"
   ]
  },
  {
   "cell_type": "markdown",
   "metadata": {},
   "source": [
    "no existe correlacion, no se puede pensar en una regresión lineal"
   ]
  },
  {
   "cell_type": "markdown",
   "metadata": {},
   "source": [
    "# ahora si a implementar el algoritmo de prediccion si el agua es potable o no"
   ]
  },
  {
   "cell_type": "markdown",
   "metadata": {},
   "source": [
    "voy a probar con varios clasificadores y el que tenga mejor accuracy ese sera el modelo que voy a utilizar"
   ]
  },
  {
   "cell_type": "markdown",
   "metadata": {},
   "source": [
    "# ya que los datos tienen gran diversidad voy a implementar un ensamblador que se llama bagging para hacer que el modelo funcione mejor.\n"
   ]
  },
  {
   "cell_type": "markdown",
   "metadata": {},
   "source": [
    "# bagging"
   ]
  },
  {
   "cell_type": "markdown",
   "metadata": {},
   "source": [
    "es como si le preguntaramos a un experto de que nos combiene mejor para nuestro algoritmo parte en diferentes partes el dataset en mediante una especie de votacion toma desiciones que mejor convengan al algoritmo, estas partes del dataset pueden ser entrenadas por el mismo o diferentes modelos"
   ]
  },
  {
   "cell_type": "code",
   "execution_count": 230,
   "metadata": {},
   "outputs": [],
   "source": [
    "from sklearn.model_selection import train_test_split"
   ]
  },
  {
   "cell_type": "code",
   "execution_count": 231,
   "metadata": {},
   "outputs": [],
   "source": [
    "# divido los datos de entrenamiento y prueba del modelo\n",
    "X = data.drop(['Potability'], axis=1)\n",
    "y = data['Potability']\n",
    "\n",
    "X_train,X_test, y_train, y_test = train_test_split(X, y, test_size=0.25, random_state=42)"
   ]
  },
  {
   "cell_type": "code",
   "execution_count": 232,
   "metadata": {},
   "outputs": [],
   "source": [
    "# importo los modelos de clasificación\n",
    "\n",
    "from sklearn.ensemble import BaggingClassifier, RandomForestClassifier, GradientBoostingClassifier\n",
    "\n",
    "from sklearn.neighbors import KNeighborsClassifier\n",
    "from sklearn.linear_model import LogisticRegression\n",
    "from sklearn.linear_model import SGDClassifier\n",
    "from sklearn.tree import DecisionTreeClassifier\n",
    "\n",
    "from sklearn.metrics import accuracy_score\n",
    "\n",
    "from sklearn.model_selection import train_test_split"
   ]
  },
  {
   "cell_type": "code",
   "execution_count": 233,
   "metadata": {},
   "outputs": [
    {
     "name": "stdout",
     "output_type": "stream",
     "text": [
      "================================================================\n",
      "SCORE Bagging with LogisticRegression : 0.6227106227106227\n",
      "================================================================\n",
      "SCORE Bagging with SGD : 0.6227106227106227\n",
      "================================================================\n",
      "SCORE Bagging with KNN : 0.5409035409035409\n",
      "================================================================\n",
      "SCORE Bagging with DecisionTreeClf : 0.7924297924297924\n",
      "================================================================\n",
      "SCORE Bagging with RandomTreeForest : 0.800976800976801\n",
      "================================================================\n",
      "SCORE Bagging with GradientBoostingClassifier : 0.7924297924297924\n"
     ]
    }
   ],
   "source": [
    "estimators = {\n",
    "       'LogisticRegression' : LogisticRegression(),\n",
    "        'SGD' : SGDClassifier(loss=\"hinge\", penalty=\"l2\", max_iter=5),\n",
    "        'KNN' : KNeighborsClassifier(),\n",
    "        'DecisionTreeClf' : DecisionTreeClassifier(),\n",
    "        'RandomTreeForest' : RandomForestClassifier(random_state=0),\n",
    "        'GradientBoostingClassifier' : GradientBoostingClassifier()\n",
    "    }\n",
    "\n",
    "for name, estimator in estimators.items():\n",
    "    bag_class = BaggingClassifier(base_estimator = estimator, n_estimators=50).fit(X_train, y_train)\n",
    "    bag_predict = bag_class.predict(X_test)\n",
    "    print('='*64)\n",
    "    print('SCORE Bagging with {} : {}'.format(name, accuracy_score(bag_predict, y_test)))"
   ]
  },
  {
   "cell_type": "markdown",
   "metadata": {},
   "source": [
    "el modelo que mejor predice si el agua es potable o no es RandomTreeForest este es un algoritmo que une varios\n",
    "arboles de decisión para predecir un evento, entonces este es el que utilzo para hacer las predicciones."
   ]
  },
  {
   "cell_type": "code",
   "execution_count": 234,
   "metadata": {},
   "outputs": [
    {
     "name": "stdout",
     "output_type": "stream",
     "text": [
      "\n",
      "SCORE Random Tree Forest with bagging 0.8046398046398047 \n"
     ]
    }
   ],
   "source": [
    "# defino por aparte algoritmo de bosque aleatorio\n",
    "\n",
    "Random_Tree_Forest = RandomForestClassifier(random_state=0).fit(X_train, y_train)\n",
    "bagging_class = BaggingClassifier(base_estimator = Random_Tree_Forest, n_estimators=50).fit(X_train, y_train)\n",
    "bagging_predict = bagging_class.predict(X_test)\n",
    "print('')\n",
    "print('SCORE Random Tree Forest with bagging {} '.format(accuracy_score(bagging_predict, y_test)))"
   ]
  },
  {
   "cell_type": "markdown",
   "metadata": {},
   "source": [
    "# luego escogo del dataset 50 datos al azar para hacer predicciones y probar el algoritmo sin los datos de test"
   ]
  },
  {
   "cell_type": "code",
   "execution_count": 247,
   "metadata": {},
   "outputs": [],
   "source": [
    "values = data.sample(50)"
   ]
  },
  {
   "cell_type": "code",
   "execution_count": 248,
   "metadata": {},
   "outputs": [
    {
     "data": {
      "text/html": [
       "<div>\n",
       "<style scoped>\n",
       "    .dataframe tbody tr th:only-of-type {\n",
       "        vertical-align: middle;\n",
       "    }\n",
       "\n",
       "    .dataframe tbody tr th {\n",
       "        vertical-align: top;\n",
       "    }\n",
       "\n",
       "    .dataframe thead th {\n",
       "        text-align: right;\n",
       "    }\n",
       "</style>\n",
       "<table border=\"1\" class=\"dataframe\">\n",
       "  <thead>\n",
       "    <tr style=\"text-align: right;\">\n",
       "      <th></th>\n",
       "      <th>ph</th>\n",
       "      <th>Hardness</th>\n",
       "      <th>Solids</th>\n",
       "      <th>Chloramines</th>\n",
       "      <th>Sulfate</th>\n",
       "      <th>Conductivity</th>\n",
       "      <th>Organic_carbon</th>\n",
       "      <th>Trihalomethanes</th>\n",
       "      <th>Turbidity</th>\n",
       "      <th>Potability</th>\n",
       "    </tr>\n",
       "  </thead>\n",
       "  <tbody>\n",
       "    <tr>\n",
       "      <th>942</th>\n",
       "      <td>6.848805</td>\n",
       "      <td>204.812711</td>\n",
       "      <td>20555.559572</td>\n",
       "      <td>9.775004</td>\n",
       "      <td>387.686388</td>\n",
       "      <td>389.638228</td>\n",
       "      <td>12.298753</td>\n",
       "      <td>49.452046</td>\n",
       "      <td>3.130045</td>\n",
       "      <td>0</td>\n",
       "    </tr>\n",
       "    <tr>\n",
       "      <th>3186</th>\n",
       "      <td>8.316664</td>\n",
       "      <td>110.903598</td>\n",
       "      <td>24814.485805</td>\n",
       "      <td>9.489566</td>\n",
       "      <td>332.566990</td>\n",
       "      <td>480.472306</td>\n",
       "      <td>14.271247</td>\n",
       "      <td>77.854499</td>\n",
       "      <td>2.695800</td>\n",
       "      <td>1</td>\n",
       "    </tr>\n",
       "    <tr>\n",
       "      <th>2040</th>\n",
       "      <td>7.073783</td>\n",
       "      <td>255.953599</td>\n",
       "      <td>15097.024064</td>\n",
       "      <td>8.482421</td>\n",
       "      <td>361.971419</td>\n",
       "      <td>471.477419</td>\n",
       "      <td>14.570932</td>\n",
       "      <td>40.287298</td>\n",
       "      <td>3.227941</td>\n",
       "      <td>1</td>\n",
       "    </tr>\n",
       "    <tr>\n",
       "      <th>1675</th>\n",
       "      <td>7.085378</td>\n",
       "      <td>193.167611</td>\n",
       "      <td>20894.400493</td>\n",
       "      <td>7.331568</td>\n",
       "      <td>359.426537</td>\n",
       "      <td>417.424766</td>\n",
       "      <td>16.787145</td>\n",
       "      <td>38.107005</td>\n",
       "      <td>3.818404</td>\n",
       "      <td>0</td>\n",
       "    </tr>\n",
       "    <tr>\n",
       "      <th>2172</th>\n",
       "      <td>7.950817</td>\n",
       "      <td>147.117918</td>\n",
       "      <td>20827.917578</td>\n",
       "      <td>9.226125</td>\n",
       "      <td>334.564290</td>\n",
       "      <td>474.854039</td>\n",
       "      <td>10.714241</td>\n",
       "      <td>60.255519</td>\n",
       "      <td>4.543685</td>\n",
       "      <td>0</td>\n",
       "    </tr>\n",
       "  </tbody>\n",
       "</table>\n",
       "</div>"
      ],
      "text/plain": [
       "            ph    Hardness        Solids  Chloramines     Sulfate  \\\n",
       "942   6.848805  204.812711  20555.559572     9.775004  387.686388   \n",
       "3186  8.316664  110.903598  24814.485805     9.489566  332.566990   \n",
       "2040  7.073783  255.953599  15097.024064     8.482421  361.971419   \n",
       "1675  7.085378  193.167611  20894.400493     7.331568  359.426537   \n",
       "2172  7.950817  147.117918  20827.917578     9.226125  334.564290   \n",
       "\n",
       "      Conductivity  Organic_carbon  Trihalomethanes  Turbidity Potability  \n",
       "942     389.638228       12.298753        49.452046   3.130045          0  \n",
       "3186    480.472306       14.271247        77.854499   2.695800          1  \n",
       "2040    471.477419       14.570932        40.287298   3.227941          1  \n",
       "1675    417.424766       16.787145        38.107005   3.818404          0  \n",
       "2172    474.854039       10.714241        60.255519   4.543685          0  "
      ]
     },
     "execution_count": 248,
     "metadata": {},
     "output_type": "execute_result"
    }
   ],
   "source": [
    "values.head()"
   ]
  },
  {
   "cell_type": "code",
   "execution_count": 249,
   "metadata": {},
   "outputs": [],
   "source": [
    "predictions = values.drop(['Potability'],axis = 1)\n",
    "target = values[['Potability']]"
   ]
  },
  {
   "cell_type": "code",
   "execution_count": 250,
   "metadata": {},
   "outputs": [],
   "source": [
    "new_predict = bagging_class.predict(predictions)"
   ]
  },
  {
   "cell_type": "code",
   "execution_count": 254,
   "metadata": {},
   "outputs": [
    {
     "data": {
      "text/plain": [
       "array([1, 1, 1, 0, 0, 0, 1, 1, 1, 0, 1, 1, 0, 0, 1, 1, 1, 1, 1, 0, 0, 0,\n",
       "       0, 1, 0, 1, 1, 0, 0, 0, 0, 0, 0, 0, 0, 1, 0, 0, 1, 0, 0, 0, 1, 1,\n",
       "       0, 1, 1, 1, 0, 1])"
      ]
     },
     "execution_count": 254,
     "metadata": {},
     "output_type": "execute_result"
    }
   ],
   "source": [
    "new_predict"
   ]
  },
  {
   "cell_type": "markdown",
   "metadata": {},
   "source": [
    "# ahora con una matriz de confusión verifico en que acerto y en que fallo el algoritmo"
   ]
  },
  {
   "cell_type": "code",
   "execution_count": 256,
   "metadata": {},
   "outputs": [
    {
     "data": {
      "text/plain": [
       "<AxesSubplot:>"
      ]
     },
     "execution_count": 256,
     "metadata": {},
     "output_type": "execute_result"
    },
    {
     "data": {
      "image/png": "[encoded data removed]",
      "text/plain": [
       "<Figure size 648x432 with 2 Axes>"
      ]
     },
     "metadata": {},
     "output_type": "display_data"
    }
   ],
   "source": [
    "from sklearn.metrics import confusion_matrix\n",
    "\n",
    "sns.heatmap(confusion_matrix(new_predict, target), annot=True, cmap = 'Blues_r', fmt='.2f')"
   ]
  },
  {
   "cell_type": "markdown",
   "metadata": {},
   "source": [
    "# como se lee una matriz de confusión?"
   ]
  },
  {
   "cell_type": "markdown",
   "metadata": {},
   "source": [
    "los numeros que aparecen en la matriz de confusión sin las comparaciones de los datos de y_test y los datos predecidos "
   ]
  },
  {
   "cell_type": "markdown",
   "metadata": {},
   "source": [
    "1 --> significa bueno para humanos es decir es agua potable"
   ]
  },
  {
   "cell_type": "markdown",
   "metadata": {},
   "source": [
    "0 --> significa que no es bueno para humanos es decir no es agua potable"
   ]
  },
  {
   "cell_type": "markdown",
   "metadata": {},
   "source": [
    "la mejor manera de leer una matriz de confusión es leerla de manera diagonal de derecha a izquierda, es este caso\n",
    "la matriz es de 2x2 ya que solo tiene dos etiquetas son son 0 y 1, las predicciónes son comparadas con la variable\n",
    "target de los datos aleatorios que escogimos del dataset."
   ]
  },
  {
   "cell_type": "markdown",
   "metadata": {},
   "source": [
    "en el cuadro azul claro de la parte superior izquierda significa que el algoritmo realizo 25 predicciónes acertadas\n",
    "prediciendo que el agua no es potable es decir fueron predicciónes verdaderas positivas siendo 0."
   ]
  },
  {
   "cell_type": "markdown",
   "metadata": {},
   "source": [
    "en el cuadro azul menos claro de la parte inferior derecha significa que el algoritmo realizo 21 predicciónes acertadas\n",
    "prediciendo que el agua es potable es decir predicciónes verdaderas negativas siendo 1."
   ]
  },
  {
   "cell_type": "markdown",
   "metadata": {},
   "source": [
    "en el cuadro azul no tan claro de la parte inferior izquierda fueron 3 predicciónes erroneas prediciendo que el agua\n",
    "es potable siendo 0, la predicción es errada por que el el target es 1 agua potable, es decir falsa positiva. "
   ]
  },
  {
   "cell_type": "markdown",
   "metadata": {},
   "source": [
    "y en el cuadro azul mas oscuro el algoritmo realizo 1 prediccion errada prediciendo que el agua es potable siendo 1\n",
    "la predicción es errada por que el el target es 0 agua no potable, es decir falsa negativa."
   ]
  },
  {
   "cell_type": "code",
   "execution_count": null,
   "metadata": {},
   "outputs": [],
   "source": []
  }
 ],
 "metadata": {
  "kernelspec": {
   "display_name": "Python 3",
   "language": "python",
   "name": "python3"
  },
  "language_info": {
   "codemirror_mode": {
    "name": "ipython",
    "version": 3
   },
   "file_extension": ".py",
   "mimetype": "text/x-python",
   "name": "python",
   "nbconvert_exporter": "python",
   "pygments_lexer": "ipython3",
   "version": "3.8.5"
  }
 },
 "nbformat": 4,
 "nbformat_minor": 4
}
